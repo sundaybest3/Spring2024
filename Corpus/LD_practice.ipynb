{
  "nbformat": 4,
  "nbformat_minor": 0,
  "metadata": {
    "colab": {
      "private_outputs": true,
      "provenance": [],
      "include_colab_link": true
    },
    "kernelspec": {
      "name": "python3",
      "display_name": "Python 3"
    },
    "language_info": {
      "name": "python"
    }
  },
  "cells": [
    {
      "cell_type": "markdown",
      "metadata": {
        "id": "view-in-github",
        "colab_type": "text"
      },
      "source": [
        "<a href=\"https://colab.research.google.com/github/sundaybest3/Spring2024/blob/main/Corpus/LD_practice.ipynb\" target=\"_parent\"><img src=\"https://colab.research.google.com/assets/colab-badge.svg\" alt=\"Open In Colab\"/></a>"
      ]
    },
    {
      "cell_type": "markdown",
      "source": [
        "# Lexical diversity with your data\n",
        "\n",
        "+ Preparation: Upload a csv file\n",
        "\n",
        "|Title|Passage|\n",
        "|--|--|\n",
        "|text1|passage1|\n",
        "|text2|passage2|\n",
        "\n",
        "+ sample text: [Aesop link](https://read.gov/aesop/001.html)\n",
        "+ sample file: [sample.csv](https://github.com/MK316/Spring2024/blob/main/Corpus/data/sample.csv)"
      ],
      "metadata": {
        "id": "wrML0WHkqEQH"
      }
    },
    {
      "cell_type": "markdown",
      "source": [
        "# [1] Read your csv file"
      ],
      "metadata": {
        "id": "L9oTMRIQth5v"
      }
    },
    {
      "cell_type": "code",
      "source": [
        "!python --version"
      ],
      "metadata": {
        "id": "mk_U3FfjuIr9"
      },
      "execution_count": null,
      "outputs": []
    },
    {
      "cell_type": "code",
      "execution_count": null,
      "metadata": {
        "id": "7_6dgrfZoTVa"
      },
      "outputs": [],
      "source": [
        "import pandas as pd"
      ]
    },
    {
      "cell_type": "code",
      "source": [
        "# Change the file name after uploading the csv file\n",
        "\n",
        "df = pd.read_csv(\"/content/data.csv\")\n",
        "df.tail()"
      ],
      "metadata": {
        "id": "bEr1fnuptsio"
      },
      "execution_count": null,
      "outputs": []
    },
    {
      "cell_type": "markdown",
      "source": [
        "# [2] Add a new columns with string numbers\n",
        "\n",
        "|Title|Passage|String|\n",
        "|--|--|--|\n",
        "|text1|passage1|123|\n",
        "|text2|passage2|98|"
      ],
      "metadata": {
        "id": "UpFFzm5WuDou"
      }
    },
    {
      "cell_type": "code",
      "source": [
        "df2 = df"
      ],
      "metadata": {
        "id": "-EbLxynpuSuT"
      },
      "execution_count": null,
      "outputs": []
    },
    {
      "cell_type": "code",
      "source": [
        "# Added column: String length\n",
        "length = []   # empty list\n",
        "\n",
        "# Count string numbers and append them to the variable length\n",
        "for i in range(0, len(df2['Passage'])):\n",
        "  LEN = len(df2['Passage'][i])\n",
        "  length.append(LEN)\n",
        "\n",
        "# Add a column name 'String' and assign the values (length)\n",
        "df2['String'] = length\n",
        "\n",
        "df2"
      ],
      "metadata": {
        "id": "xsYsiUm6uQP8"
      },
      "execution_count": null,
      "outputs": []
    },
    {
      "cell_type": "markdown",
      "source": [
        "# [3] Add a column with the number of words for each text"
      ],
      "metadata": {
        "id": "zyolugMBvzwx"
      }
    },
    {
      "cell_type": "code",
      "source": [
        "#'Nwords'\n",
        "\n",
        "# Added column\n",
        "\n",
        "nwords = []   # empty list\n",
        "\n",
        "# Count word numbers and append them to the variable length\n",
        "for i in range(0, len(df2['Passage'])):\n",
        "  text = df2['Passage'][i]\n",
        "  text1=text.split()\n",
        "  LEN=len(text1)\n",
        "  nwords.append(LEN)\n",
        "\n",
        "# Add a column name 'Nwords' and assign the values (length)\n",
        "df2['Nwords'] = nwords\n",
        "\n",
        "df2\n",
        "\n"
      ],
      "metadata": {
        "id": "Z58obkF4woi9"
      },
      "execution_count": null,
      "outputs": []
    },
    {
      "cell_type": "markdown",
      "source": [
        "# [4] Lexical diversity"
      ],
      "metadata": {
        "id": "Ob5H9p1Fwo1j"
      }
    },
    {
      "cell_type": "code",
      "source": [
        "!pip install lexical-diversity\n",
        "from lexical_diversity import lex_div as ld"
      ],
      "metadata": {
        "id": "fXXdBujSyE-v"
      },
      "execution_count": null,
      "outputs": []
    },
    {
      "cell_type": "code",
      "source": [
        "# Added column: String length\n",
        "lem = []\n",
        "\n",
        "for i in range(0, len(df2['Passage'])):\n",
        "  LEM = ld.flemmatize(df2['Passage'][i])\n",
        "  print(LEM)  #not necessary\n",
        "  lem.append(LEM)\n",
        "\n",
        "df2['Lemma'] = lem\n",
        "df2"
      ],
      "metadata": {
        "id": "ClEsGTttyNCa"
      },
      "execution_count": null,
      "outputs": []
    },
    {
      "cell_type": "code",
      "source": [
        "# ADD LD indices\n",
        "\n",
        "#1. Create empty lists.\n",
        "TTR = []\n",
        "MassTTR = []\n",
        "HDD = []\n",
        "MTLD = []\n",
        "\n",
        "# 2. Getting LD index values for each cell:\n",
        "\n",
        "for i in range(0, len(df2['Lemma'])):\n",
        "  flt = df2['Lemma'][i] #flt = the list of the words\n",
        "\n",
        "  ttr = ld.ttr(flt)\n",
        "  mass = ld.maas_ttr(flt)\n",
        "  hdd = ld.hdd(flt)\n",
        "  mtld = ld.mtld(flt)\n",
        "\n",
        "  # Add values to each list\n",
        "  TTR.append(ttr)\n",
        "  MassTTR.append(mass)\n",
        "  HDD.append(hdd)\n",
        "  MTLD.append(mtld)\n",
        "\n",
        "# Add columns\n",
        "df2['TTR'] = TTR\n",
        "df2['MassTTR'] = MassTTR\n",
        "df2['HDD'] = HDD\n",
        "df2['MTLD'] = MTLD\n",
        "\n",
        "df2"
      ],
      "metadata": {
        "id": "1PGjP7b5yeWJ"
      },
      "execution_count": null,
      "outputs": []
    },
    {
      "cell_type": "markdown",
      "source": [
        "Save the dataframe to a csv file"
      ],
      "metadata": {
        "id": "SFpXLpC80MaC"
      }
    },
    {
      "cell_type": "code",
      "source": [
        "df2.to_csv('/content/mydata.csv',index=False)"
      ],
      "metadata": {
        "id": "y07dRz2Pz_b5"
      },
      "execution_count": null,
      "outputs": []
    },
    {
      "cell_type": "markdown",
      "source": [
        "---\n",
        "The End"
      ],
      "metadata": {
        "id": "jfj6sF_NzAgk"
      }
    }
  ]
}