{
  "nbformat": 4,
  "nbformat_minor": 0,
  "metadata": {
    "colab": {
      "private_outputs": true,
      "provenance": [],
      "include_colab_link": true
    },
    "kernelspec": {
      "name": "python3",
      "display_name": "Python 3"
    },
    "language_info": {
      "name": "python"
    }
  },
  "cells": [
    {
      "cell_type": "markdown",
      "metadata": {
        "id": "view-in-github",
        "colab_type": "text"
      },
      "source": [
        "<a href=\"https://colab.research.google.com/github/sundaybest3/Spring2024/blob/main/Corpus/NLTK01.ipynb\" target=\"_parent\"><img src=\"https://colab.research.google.com/assets/colab-badge.svg\" alt=\"Open In Colab\"/></a>"
      ]
    },
    {
      "cell_type": "markdown",
      "source": [
        "# NLTK intro\n"
      ],
      "metadata": {
        "id": "Q9nv00-ABma2"
      }
    },
    {
      "cell_type": "code",
      "execution_count": null,
      "metadata": {
        "id": "FbdMPHQnBlDE"
      },
      "outputs": [],
      "source": [
        "# Copyright\n",
        "# help(): too much information\n",
        "copyright"
      ]
    },
    {
      "cell_type": "code",
      "source": [
        "# prompt: >>>\n",
        "\n",
        "1+5*2-3"
      ],
      "metadata": {
        "id": "ITb4ngMGB4ev"
      },
      "execution_count": null,
      "outputs": []
    },
    {
      "cell_type": "code",
      "source": [
        "# Experience error: Syntax Error\n"
      ],
      "metadata": {
        "id": "pwExcbWPB5rF"
      },
      "execution_count": null,
      "outputs": []
    },
    {
      "cell_type": "markdown",
      "source": [
        "# 1.2 Getting started with NLTK"
      ],
      "metadata": {
        "id": "ZTGzqOJkCYWu"
      }
    },
    {
      "cell_type": "code",
      "source": [
        "import nltk"
      ],
      "metadata": {
        "id": "qnOuKVqHCWvj"
      },
      "execution_count": null,
      "outputs": []
    },
    {
      "cell_type": "code",
      "source": [
        "nltk.download(\"book\")"
      ],
      "metadata": {
        "id": "zutEPdOvCfLL"
      },
      "execution_count": null,
      "outputs": []
    },
    {
      "cell_type": "code",
      "source": [
        "from nltk.book import *"
      ],
      "metadata": {
        "id": "qx-Hpb__Cqag"
      },
      "execution_count": null,
      "outputs": []
    },
    {
      "cell_type": "code",
      "source": [
        "text1"
      ],
      "metadata": {
        "id": "YWCFJaTSDKFN"
      },
      "execution_count": null,
      "outputs": []
    },
    {
      "cell_type": "markdown",
      "source": [
        "## [1] concordance"
      ],
      "metadata": {
        "id": "Q6mxfqTKDNLJ"
      }
    },
    {
      "cell_type": "code",
      "source": [
        "text1.concordance(\"monstrous\")"
      ],
      "metadata": {
        "id": "9gukAhsxDQEX"
      },
      "execution_count": null,
      "outputs": []
    },
    {
      "cell_type": "markdown",
      "source": [
        "### (A) A concordance permits us to see words in context. For example, we saw that monstrous occurred in contexts such as the ___ pictures and a ___ size . What other words appear in a similar range of contexts?"
      ],
      "metadata": {
        "id": "sg3MQCEhD0YS"
      }
    },
    {
      "cell_type": "code",
      "source": [
        "text2.similar(\"monstrous\")"
      ],
      "metadata": {
        "id": "2t3GrE9kDTlY"
      },
      "execution_count": null,
      "outputs": []
    },
    {
      "cell_type": "markdown",
      "source": [
        "### (B) The term **common_contexts** allows us to examine just the contexts that are shared by two or more words, such as _monstrous_ and _very_. We have to enclose these words by square brackets as well as parentheses, and separate them with a comma:"
      ],
      "metadata": {
        "id": "xo0-sW07EDUQ"
      }
    },
    {
      "cell_type": "code",
      "source": [
        "text2.common_contexts([\"monstrous\", \"very\"])"
      ],
      "metadata": {
        "id": "kKvRFjP8DXA2"
      },
      "execution_count": null,
      "outputs": []
    },
    {
      "cell_type": "code",
      "source": [
        "text2.common_contexts([\"much\", \"pretty\"])"
      ],
      "metadata": {
        "id": "GYHlWUkkGwTa"
      },
      "execution_count": null,
      "outputs": []
    },
    {
      "cell_type": "markdown",
      "source": [
        "## [2] Dispersion plot"
      ],
      "metadata": {
        "id": "X0HkyBYzG_io"
      }
    },
    {
      "cell_type": "code",
      "source": [
        "text4.dispersion_plot([\"citizens\", \"democracy\", \"freedom\", \"duties\", \"America\"])"
      ],
      "metadata": {
        "id": "5W4g_16mHEO-"
      },
      "execution_count": null,
      "outputs": []
    },
    {
      "cell_type": "markdown",
      "source": [
        "### Now, just for fun, let's try generating some random text in the various styles we have just seen. To do this, we type the name of the text followed by the term generate. (We need to include the parentheses, but there's nothing that goes between them.)"
      ],
      "metadata": {
        "id": "NmbwCRWdHNCY"
      }
    },
    {
      "cell_type": "code",
      "source": [
        "text3"
      ],
      "metadata": {
        "id": "8WQZQZ1dHUYM"
      },
      "execution_count": null,
      "outputs": []
    },
    {
      "cell_type": "code",
      "source": [
        "text2"
      ],
      "metadata": {
        "id": "MV7wnJbbHqqk"
      },
      "execution_count": null,
      "outputs": []
    },
    {
      "cell_type": "code",
      "source": [
        "text3.generate()"
      ],
      "metadata": {
        "id": "UDCEx4R8HJ1F"
      },
      "execution_count": null,
      "outputs": []
    },
    {
      "cell_type": "code",
      "source": [
        "text2.generate()"
      ],
      "metadata": {
        "id": "iQB_lkzUHumQ"
      },
      "execution_count": null,
      "outputs": []
    },
    {
      "cell_type": "markdown",
      "source": [
        "## 1.4 Counting vocabulary"
      ],
      "metadata": {
        "id": "pp_sVBczH1_g"
      }
    },
    {
      "cell_type": "code",
      "source": [
        "len(text3)"
      ],
      "metadata": {
        "id": "lGKPvh9SH5ew"
      },
      "execution_count": null,
      "outputs": []
    },
    {
      "cell_type": "code",
      "source": [
        "sorted(set(text3))[-5:]"
      ],
      "metadata": {
        "id": "0ESz21BRH-wy"
      },
      "execution_count": null,
      "outputs": []
    },
    {
      "cell_type": "code",
      "source": [
        "len(set(text3))"
      ],
      "metadata": {
        "id": "TYrBCMbJIK-Y"
      },
      "execution_count": null,
      "outputs": []
    },
    {
      "cell_type": "markdown",
      "source": [
        "### **Lexical richness of the text (e.g., TTS)**"
      ],
      "metadata": {
        "id": "-pq_mEQLITa1"
      }
    },
    {
      "cell_type": "markdown",
      "source": [
        "Here are three stories on the topic of a cat chasing a mouse, tailored for beginner, intermediate, and advanced English learners, each aiming for a target word count but varying in word diversity and complexity:\n",
        "\n",
        "**Beginner (42 words):**\n",
        "A cat saw a mouse. The cat wanted to catch the mouse. The mouse ran away fast. The cat chased the mouse. The mouse was very fast. The cat could not catch the mouse. The mouse got away. The cat was sad.\n",
        "\n",
        "**Intermediate (46 words):**\n",
        "One day, a cat spotted a mouse roaming in the garden. Eager for a chase, the cat sprinted towards it. Despite its speed, the mouse was nimble, darting into a hole. The cat, perplexed, waited outside, hoping for another chance. But the mouse was too clever.\n",
        "\n",
        "**Advanced (50 words):**\n",
        "Under the canopy of a lush garden, a cat, with eyes narrowed, observed a mouse scurrying amongst the foliage. Instinctively, it launched into a swift pursuit, muscles tensed. However, the mouse, adept at evasion, navigated through an intricate maze of plants, ultimately vanishing. The cat, outwitted, lingered, pondering its next move."
      ],
      "metadata": {
        "id": "R9k_-7hgLJpD"
      }
    },
    {
      "cell_type": "code",
      "source": [
        "text = input()"
      ],
      "metadata": {
        "id": "hNez9O4eLkaA"
      },
      "execution_count": null,
      "outputs": []
    },
    {
      "cell_type": "code",
      "source": [
        "words = text.split()  # Split the text into words\n",
        "wlen = len(words)\n",
        "print(wlen)"
      ],
      "metadata": {
        "id": "aOeXofP2KApd"
      },
      "execution_count": null,
      "outputs": []
    },
    {
      "cell_type": "code",
      "source": [
        "types = set(words)  # Unique words\n",
        "token_count = len(words)  # Total number of words\n",
        "type_count = len(types)  # Number of unique words\n",
        "\n",
        "# Calculate TTR\n",
        "ttr = type_count / token_count\n",
        "\n",
        "# Print TTR\n",
        "print(ttr)\n",
        "print(round(ttr,2))\n",
        "# print(f\"Type-to-Token Ratio: {ttr}\")"
      ],
      "metadata": {
        "id": "SivOmswZLsND"
      },
      "execution_count": null,
      "outputs": []
    },
    {
      "cell_type": "markdown",
      "source": [
        "+ Compare the three texts"
      ],
      "metadata": {
        "id": "XdZ4kEpcMeLv"
      }
    },
    {
      "cell_type": "code",
      "source": [
        "#@markdown Comparing three texts in terms of TTR\n",
        "def calculate_average_word_length(text):\n",
        "    \"\"\"Calculate average word length of a given text.\"\"\"\n",
        "    words = text.split()\n",
        "    total_length = sum(len(word) for word in words)\n",
        "    average_length = total_length / len(words) if words else 0\n",
        "    return round(average_length, 2)\n",
        "\n",
        "def calculate_ttr(text):\n",
        "    \"\"\"Calculate Type-to-Token Ratio (TTR) of a given text.\"\"\"\n",
        "    words = text.split()\n",
        "    types = set(words)\n",
        "    token_count = len(words)\n",
        "    type_count = len(types)\n",
        "    ttr = type_count / token_count if token_count > 0 else 0\n",
        "    return round(ttr, 2)\n",
        "\n",
        "# Example texts\n",
        "txt1 = \" A cat saw a mouse. The cat wanted to catch the mouse. The mouse ran away fast. The cat chased the mouse. The mouse was very fast. The cat could not catch the mouse. The mouse got away. The cat was sad.\"\n",
        "txt2 = \"One day, a cat spotted a mouse roaming in the garden. Eager for a chase, the cat sprinted towards it. Despite its speed, the mouse was nimble, darting into a hole. The cat, perplexed, waited outside, hoping for another chance. But the mouse was too clever.\"\n",
        "txt3 = \"Under the canopy of a lush garden, a cat, with eyes narrowed, observed a mouse scurrying amongst the foliage. Instinctively, it launched into a swift pursuit, muscles tensed. However, the mouse, adept at evasion, navigated through an intricate maze of plants, ultimately vanishing. The cat, outwitted, lingered, pondering its next move.\"\n",
        "\n",
        "# Calculate metrics\n",
        "avg_word_length1 = calculate_average_word_length(txt1)\n",
        "avg_word_length2 = calculate_average_word_length(txt2)\n",
        "avg_word_length3 = calculate_average_word_length(txt3)\n",
        "\n",
        "ttr1 = calculate_ttr(txt1)\n",
        "ttr2 = calculate_ttr(txt2)\n",
        "ttr3 = calculate_ttr(txt3)\n",
        "\n",
        "# Print results\n",
        "print(f\"Text 1 - Average Word Length: {avg_word_length1}, TTR: {ttr1}\")\n",
        "print(f\"Text 2 - Average Word Length: {avg_word_length2}, TTR: {ttr2}\")\n",
        "print(f\"Text 3 - Average Word Length: {avg_word_length3}, TTR: {ttr3}\")\n"
      ],
      "metadata": {
        "cellView": "form",
        "id": "c8-xTAKTMgrV"
      },
      "execution_count": null,
      "outputs": []
    },
    {
      "cell_type": "code",
      "source": [
        "#@markdown Bar Plot to compare TTR values\n",
        "\n",
        "import matplotlib.pyplot as plt\n",
        "\n",
        "# Data for plotting\n",
        "texts = ['Text 1', 'Text 2', 'Text 3']\n",
        "avg_word_lengths = [avg_word_length1, avg_word_length2, avg_word_length3]\n",
        "ttrs = [ttr1, ttr2, ttr3]\n",
        "\n",
        "# Create bar plots\n",
        "fig, ax = plt.subplots(1, 2, figsize=(10, 5))  # Create a figure and a set of subplots\n",
        "\n",
        "# Plot average word lengths\n",
        "ax[0].bar(texts, avg_word_lengths, color='skyblue')\n",
        "ax[0].set_title('Average Word Length')\n",
        "ax[0].set_ylabel('Length')\n",
        "ax[0].set_ylim([min(avg_word_lengths) - 0.1, max(avg_word_lengths) + 0.1])\n",
        "\n",
        "# Plot Type-to-Token Ratios\n",
        "ax[1].bar(texts, ttrs, color='lightgreen')\n",
        "ax[1].set_title('Type-to-Token Ratio')\n",
        "ax[1].set_ylabel('TTR')\n",
        "ax[1].set_ylim([min(ttrs) - 0.05, max(ttrs) + 0.05])\n",
        "\n",
        "plt.tight_layout()  # Adjust the layout\n",
        "plt.show()\n"
      ],
      "metadata": {
        "cellView": "form",
        "id": "OXUjM_A7NJVM"
      },
      "execution_count": null,
      "outputs": []
    },
    {
      "cell_type": "markdown",
      "source": [
        "---\n",
        "### Try NLTK texts"
      ],
      "metadata": {
        "id": "cK4wI_-YMV49"
      }
    },
    {
      "cell_type": "code",
      "source": [
        "len(set(text3)) / len(text3)"
      ],
      "metadata": {
        "id": "ivijUhRFIPL6"
      },
      "execution_count": null,
      "outputs": []
    },
    {
      "cell_type": "markdown",
      "source": [
        "+ 'smite' > 'smote' ('격파하다'?)\n",
        "+ To strike with a firm blow, To defeat or overcome effectively, To affect deeply or strongly in an emotional or negative way"
      ],
      "metadata": {
        "id": "TgDsuxFXIkMT"
      }
    },
    {
      "cell_type": "code",
      "source": [
        "text3.count(\"smote\")"
      ],
      "metadata": {
        "id": "ZMoe1siUIYjl"
      },
      "execution_count": null,
      "outputs": []
    },
    {
      "cell_type": "code",
      "source": [
        "# We can count how often a word occurs in a text, and compute what percentage of the text is taken up by a specific word\n",
        "\n",
        "100 * text4.count('a') / len(text4)"
      ],
      "metadata": {
        "id": "dSkBar1ZI2rj"
      },
      "execution_count": null,
      "outputs": []
    },
    {
      "cell_type": "markdown",
      "source": [
        "+ Using Python function"
      ],
      "metadata": {
        "id": "ERdviEyyJCjT"
      }
    },
    {
      "cell_type": "code",
      "source": [
        "def lexical_diversity(text):\n",
        "  return len(set(text))/len(text)\n",
        "\n",
        "def percentage(count, total):\n",
        "  return 100*count/total"
      ],
      "metadata": {
        "id": "pzzsSjzXJFoS"
      },
      "execution_count": null,
      "outputs": []
    },
    {
      "cell_type": "code",
      "source": [
        "lexical_diversity(text3)"
      ],
      "metadata": {
        "id": "MvKJHTJeJQfC"
      },
      "execution_count": null,
      "outputs": []
    },
    {
      "cell_type": "code",
      "source": [
        "lexical_diversity(text5)"
      ],
      "metadata": {
        "id": "6QTyS1fGJVDB"
      },
      "execution_count": null,
      "outputs": []
    },
    {
      "cell_type": "code",
      "source": [
        " percentage(4, 5)"
      ],
      "metadata": {
        "id": "pPl7kQbgJWve"
      },
      "execution_count": null,
      "outputs": []
    },
    {
      "cell_type": "code",
      "source": [
        "percentage(text4.count('a'), len(text4))"
      ],
      "metadata": {
        "id": "WMRIjTbuJYZU"
      },
      "execution_count": null,
      "outputs": []
    },
    {
      "cell_type": "code",
      "source": [
        "count1 = text4.count('a')\n",
        "total1 = len(text4)\n",
        "\n",
        "percentage(count1, total1)"
      ],
      "metadata": {
        "id": "nyYVmGxjJowP"
      },
      "execution_count": null,
      "outputs": []
    },
    {
      "cell_type": "markdown",
      "source": [
        "---\n",
        "The End (Move to Section 2)"
      ],
      "metadata": {
        "id": "7FWzKvQvJ0Kg"
      }
    }
  ]
}