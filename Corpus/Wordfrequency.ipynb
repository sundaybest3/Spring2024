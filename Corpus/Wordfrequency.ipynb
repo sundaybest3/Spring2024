{
  "nbformat": 4,
  "nbformat_minor": 0,
  "metadata": {
    "colab": {
      "private_outputs": true,
      "provenance": [],
      "include_colab_link": true
    },
    "kernelspec": {
      "name": "python3",
      "display_name": "Python 3"
    },
    "language_info": {
      "name": "python"
    }
  },
  "cells": [
    {
      "cell_type": "markdown",
      "metadata": {
        "id": "view-in-github",
        "colab_type": "text"
      },
      "source": [
        "<a href=\"https://colab.research.google.com/github/sundaybest3/Spring2024/blob/main/Corpus/Wordfrequency.ipynb\" target=\"_parent\"><img src=\"https://colab.research.google.com/assets/colab-badge.svg\" alt=\"Open In Colab\"/></a>"
      ]
    },
    {
      "cell_type": "markdown",
      "source": [
        "# Project #1: Creating a Word Frequency List**\n",
        "\n"
      ],
      "metadata": {
        "id": "_5QpFK22oG5f"
      }
    },
    {
      "cell_type": "code",
      "source": [
        "# Step 1: Provide the text\n",
        "text = \"When Jeff Bush, a 37-year-old Florida man, screamed out for help, his brother Jeremy ran into Jeff’s bedroom. Seeing that Jeff and all his furnishings had vanished into the earth, Jeremy desperately tried to rescue him. He didn’t stop until the police arrived. “I tried so hard. I tried everything I could, but I couldn’t get him out,” Jeremy cried. It was a sinkhole that instantly pulled Jeff into the earth. A sinkhole is a hole that opens up in the ground, which is caused by a collapse of the land surface. Sinkholes vary in size from 1 to 600 meters deep. Some sinkholes are large enough to swallow entire buildings. Sinkholes have been around for a long time. It is said that the ancient Maya believed sinkholes were passageways to the world of the dead. Unlike the sinkhole in Florida, not all sinkholes are dangerous, destructive, and ruinous. Some sinkholes attract tourists who are interested in the mystery and the beauty of nature. Some notable sinkholes include Sima Humboldt in Venezuela, which is 314 meters deep, and Xiaozhai Tiankeng in China, 662 meters deep and 626 meters wide. Sinkholes can form underwater, too. Underwater sinkholes are called blue holes. The Great Blue Hole in Belize is one of the most spectacular; it is 300 meters wide and 124 meters deep. Sinkholes typically occur in areas where the rock beneath the surface soil is limestone, carbonate rock, sandstone, or some other soft rock that is easily worn away by water. These kinds of rocks are found in many parts of Florida, Texas, and Kentucky in the U.S. They are also common in the U.K., Mexico, Belize, Slovenia, Croatia, and China. When rainwater seeps down through surface soil, it eventually reaches the bedrock below. Slowly and continually, sometimes over hundreds or thousands of years, the water erodes small parts of the rock, creating cracks underground. As the process continues, the soil above is gradually washed into the cracks, and it creates a space in the soil. It is not seen on the surface. As the space becomes too large to support the soil above, it collapses, and a hole opens up on the surface. Though sinkholes form gradually, the final collapse of the surface happens suddenly. The most common factor that triggers a collapse is a change in underground water levels. For example, during long periods of drought, underground water levels will fall. When this happens, the space that was once supported by the water may become weaker and collapse. Another trigger is a rapid increase in surface water. A sudden heavy rain can add dramatically to the weight of the surface soil, making it too heavy for the space beneath to bear. This, too, can bring about a collapse. Sometimes the trigger can be man-made. Most sinkholes we are seeing these days are indirectly related to human activities, such as drilling, mining, or construction. They may also occur because of broken water pipes, heavy traffic, and the excessive use of groundwater. Collapses from these man-made causes can have especially dramatic effects because they often occur in the middle of a street or in housing areas. Recently, many sinkholes have opened up in urban areas around the world, sometimes resulting in tragic accidents. In 2010, in Guatemala City, an area approximately 20 meters wide and 30 meters deep collapsed, swallowing a three story factory and killing 15 people. The sinkhole was caused by the increase of surface water due to tropical storm Agatha and leakage from a local waste water pipe. Generally speaking, naturally occurring sinkholes cannot be prevented. However, if you live in an area where sinkholes have happened before, look around for possible warnings, such as leaning trees, doors or windows that don’t close properly, or rainwater collecting in unusual spots. Sinkholes caused by human carelessness can often be prevented. Thorough soil testing prior to construction and maintaining the underground water and plumbing systems are the best ways to prevent the formation of a sinkhole in the middle of a city. Sinkholes are not widespread events like hurricanes or earthquakes. They are very localized. However, this does not mean that we should ignore the possibility of sinkholes. As our population grows and land development continues, we seem to be seeing more sinkholes and more stories about humans being affected by them. If we look for ways to detect and prevent sinkholes, it may be easier to rescue another Jeff from a sinkhole somewhere else in the world.\""
      ],
      "metadata": {
        "id": "mxRDUTJsrxmd"
      },
      "execution_count": null,
      "outputs": []
    },
    {
      "cell_type": "code",
      "source": [
        "# Step 2: Clean and split the text into words\n",
        "\n",
        "# Convert to lowercase and split based on spaces\n",
        "word = text.lower()\n",
        "words = word.split()\n",
        "\n",
        "words"
      ],
      "metadata": {
        "id": "BYlesDV9_Njv"
      },
      "execution_count": null,
      "outputs": []
    },
    {
      "cell_type": "markdown",
      "source": [
        "re.sub(a, b, text): substitute a with b in data.\n",
        "```\n",
        "re.sub(r'[^\\w\\s]', '', text)\n",
        "```\n",
        "+ substitute all characters that are not word characters ('\\w' = alphanumeric characters) or whitespace characters ('\\s') with an empty string.\n",
        "+ r: raw string makes the expression clearer and avoids the need to escape the backslashes.\n",
        "\n",
        "+ Backslash: '\\\\\\\\' => r'\\\\'"
      ],
      "metadata": {
        "id": "MK2EOLMCs1Ti"
      }
    },
    {
      "cell_type": "code",
      "source": [
        "import re\n",
        "\n",
        "# Remove punctuation using regex (keep only words and spaces)\n",
        "#\n",
        "cleanwords = re.sub(r'[^\\w\\s]', '', text)\n",
        "\n",
        "# Convert to lowercase and split based on spaces\n",
        "word = cleanwords.lower()\n",
        "words = word.split()\n",
        "words"
      ],
      "metadata": {
        "id": "TyW3MiLysD6x"
      },
      "execution_count": null,
      "outputs": []
    },
    {
      "cell_type": "code",
      "source": [
        "# Step 3: Sort the list of words alphabetically\n",
        "sorted_words = sorted(words)\n",
        "print(sorted_words)"
      ],
      "metadata": {
        "id": "iWAuffbUBZ6a"
      },
      "execution_count": null,
      "outputs": []
    },
    {
      "cell_type": "markdown",
      "source": [
        "# Getting frequency"
      ],
      "metadata": {
        "id": "ZO35iY3zBuwY"
      }
    },
    {
      "cell_type": "markdown",
      "source": [
        "The pattern r'\\b\\w+\\b' below is a regular expression:\n",
        "\n",
        "+ \\b is a word boundary. This part of the pattern specifies that we are looking for whole words, not substrings within words. For example, in the string \"catapult\", \\b would match the positions at the start and end of the word, but not around 'cat'.\n",
        "\n",
        "+ \\w+ matches one or more word characters (letters, digits, or underscores). **In regular expressions, \\w is a shorthand for [a-zA-Z0-9_].**\n",
        "+ So, \\b\\w+\\b effectively matches whole words — sequences of one or more word characters surrounded by word boundaries.\n",
        "+ the regular expression r'\\b\\w+\\b' without the raw string notation would become '\\\\\\b\\\\\\w+\\\\\\b'."
      ],
      "metadata": {
        "id": "OawlwVMKCmSa"
      }
    },
    {
      "cell_type": "markdown",
      "source": [
        "## [1] Using collections library"
      ],
      "metadata": {
        "id": "K_cnJ2KlwGwb"
      }
    },
    {
      "cell_type": "code",
      "execution_count": null,
      "metadata": {
        "id": "19KEq1BjoDl_"
      },
      "outputs": [],
      "source": [
        "# Step 1: Import the necessary library\n",
        "from collections import Counter\n",
        "import re\n",
        "\n",
        "# Step 2: Provide the text\n",
        "text = \"When Jeff Bush, a 37-year-old Florida man, screamed out for help, his brother Jeremy ran into Jeff’s bedroom. Seeing that Jeff and all his furnishings had vanished into the earth, Jeremy desperately tried to rescue him. He didn’t stop until the police arrived. “I tried so hard. I tried everything I could, but I couldn’t get him out,” Jeremy cried. It was a sinkhole that instantly pulled Jeff into the earth. A sinkhole is a hole that opens up in the ground, which is caused by a collapse of the land surface. Sinkholes vary in size from 1 to 600 meters deep. Some sinkholes are large enough to swallow entire buildings. Sinkholes have been around for a long time. It is said that the ancient Maya believed sinkholes were passageways to the world of the dead. Unlike the sinkhole in Florida, not all sinkholes are dangerous, destructive, and ruinous. Some sinkholes attract tourists who are interested in the mystery and the beauty of nature. Some notable sinkholes include Sima Humboldt in Venezuela, which is 314 meters deep, and Xiaozhai Tiankeng in China, 662 meters deep and 626 meters wide. Sinkholes can form underwater, too. Underwater sinkholes are called blue holes. The Great Blue Hole in Belize is one of the most spectacular; it is 300 meters wide and 124 meters deep. Sinkholes typically occur in areas where the rock beneath the surface soil is limestone, carbonate rock, sandstone, or some other soft rock that is easily worn away by water. These kinds of rocks are found in many parts of Florida, Texas, and Kentucky in the U.S. They are also common in the U.K., Mexico, Belize, Slovenia, Croatia, and China. When rainwater seeps down through surface soil, it eventually reaches the bedrock below. Slowly and continually, sometimes over hundreds or thousands of years, the water erodes small parts of the rock, creating cracks underground. As the process continues, the soil above is gradually washed into the cracks, and it creates a space in the soil. It is not seen on the surface. As the space becomes too large to support the soil above, it collapses, and a hole opens up on the surface. Though sinkholes form gradually, the final collapse of the surface happens suddenly. The most common factor that triggers a collapse is a change in underground water levels. For example, during long periods of drought, underground water levels will fall. When this happens, the space that was once supported by the water may become weaker and collapse. Another trigger is a rapid increase in surface water. A sudden heavy rain can add dramatically to the weight of the surface soil, making it too heavy for the space beneath to bear. This, too, can bring about a collapse. Sometimes the trigger can be man-made. Most sinkholes we are seeing these days are indirectly related to human activities, such as drilling, mining, or construction. They may also occur because of broken water pipes, heavy traffic, and the excessive use of groundwater. Collapses from these man-made causes can have especially dramatic effects because they often occur in the middle of a street or in housing areas. Recently, many sinkholes have opened up in urban areas around the world, sometimes resulting in tragic accidents. In 2010, in Guatemala City, an area approximately 20 meters wide and 30 meters deep collapsed, swallowing a three story factory and killing 15 people. The sinkhole was caused by the increase of surface water due to tropical storm Agatha and leakage from a local waste water pipe. Generally speaking, naturally occurring sinkholes cannot be prevented. However, if you live in an area where sinkholes have happened before, look around for possible warnings, such as leaning trees, doors or windows that don’t close properly, or rainwater collecting in unusual spots. Sinkholes caused by human carelessness can often be prevented. Thorough soil testing prior to construction and maintaining the underground water and plumbing systems are the best ways to prevent the formation of a sinkhole in the middle of a city. Sinkholes are not widespread events like hurricanes or earthquakes. They are very localized. However, this does not mean that we should ignore the possibility of sinkholes. As our population grows and land development continues, we seem to be seeing more sinkholes and more stories about humans being affected by them. If we look for ways to detect and prevent sinkholes, it may be easier to rescue another Jeff from a sinkhole somewhere else in the world.\"\n",
        "\n",
        "# Step 3: Clean and split the text into words\n",
        "# Convert to lowercase and use regex to filter out non-word characters\n",
        "# re.findall(pattern, string)\n",
        "\n",
        "words = re.findall(r'\\b\\w+\\b', text.lower())\n",
        "\n",
        "# Step 4: Count the frequency of each word\n",
        "frequency = Counter(words)\n",
        "\n",
        "# Step 5: Display the frequency list\n",
        "for word, count in frequency.items():\n",
        "    print(f\"{word}: {count}\")\n"
      ]
    },
    {
      "cell_type": "code",
      "source": [
        "# Step 5: Display the frequency list\n",
        "for word, count in frequency.most_common():\n",
        "    print(f\"{word}: {count}\")"
      ],
      "metadata": {
        "id": "yuCyJABEFeZr"
      },
      "execution_count": null,
      "outputs": []
    },
    {
      "cell_type": "markdown",
      "source": [
        "## [2] Using nltk (same process)"
      ],
      "metadata": {
        "id": "dLFmc5gKvuZS"
      }
    },
    {
      "cell_type": "code",
      "source": [
        "!pip install nltk # Step 1: install nltk"
      ],
      "metadata": {
        "id": "4evXRv5RvxEM"
      },
      "execution_count": null,
      "outputs": []
    },
    {
      "cell_type": "code",
      "source": [
        "# Step 2: Provide the text\n",
        "text = \"Your text goes here. It can be any length and contain any words.\""
      ],
      "metadata": {
        "id": "RslV2NVlv2uC"
      },
      "execution_count": null,
      "outputs": []
    },
    {
      "cell_type": "code",
      "source": [
        "import re\n",
        "from nltk.probability import FreqDist\n",
        "\n",
        "# Step 3: Clean and split the text into words\n",
        "# Convert to lowercase and use regex to filter out non-word characters\n",
        "words = re.findall(r'\\b\\w+\\b', text.lower())\n",
        "\n",
        "# Step 4: Count the frequency of each word using FreqDist from nltk\n",
        "frequency = FreqDist(words)\n",
        "\n",
        "# Step 5: Display the frequency list\n",
        "for word, count in frequency.items():\n",
        "    print(f\"{word}: {count}\")\n"
      ],
      "metadata": {
        "id": "_iszLochv0oz"
      },
      "execution_count": null,
      "outputs": []
    },
    {
      "cell_type": "markdown",
      "source": [
        "# Frequency list to save as a dataframe > csv file (Excel worksheet) on colab folder\n",
        "\n",
        "+ [sample texts from online Lingua.com](https://lingua.com/english/reading/#exercises)\n",
        "+ [sample for practice](https://lingua.com/english/reading/days/)"
      ],
      "metadata": {
        "id": "dwW8j342E-ES"
      }
    },
    {
      "cell_type": "code",
      "source": [
        "# Step 1: Provide the text\n",
        "text = \"When Jeff Bush, a 37-year-old Florida man, screamed out for help, his brother Jeremy ran into Jeff’s bedroom. Seeing that Jeff and all his furnishings had vanished into the earth, Jeremy desperately tried to rescue him. He didn’t stop until the police arrived. “I tried so hard. I tried everything I could, but I couldn’t get him out,” Jeremy cried. It was a sinkhole that instantly pulled Jeff into the earth. A sinkhole is a hole that opens up in the ground, which is caused by a collapse of the land surface. Sinkholes vary in size from 1 to 600 meters deep. Some sinkholes are large enough to swallow entire buildings. Sinkholes have been around for a long time. It is said that the ancient Maya believed sinkholes were passageways to the world of the dead. Unlike the sinkhole in Florida, not all sinkholes are dangerous, destructive, and ruinous. Some sinkholes attract tourists who are interested in the mystery and the beauty of nature. Some notable sinkholes include Sima Humboldt in Venezuela, which is 314 meters deep, and Xiaozhai Tiankeng in China, 662 meters deep and 626 meters wide. Sinkholes can form underwater, too. Underwater sinkholes are called blue holes. The Great Blue Hole in Belize is one of the most spectacular; it is 300 meters wide and 124 meters deep. Sinkholes typically occur in areas where the rock beneath the surface soil is limestone, carbonate rock, sandstone, or some other soft rock that is easily worn away by water. These kinds of rocks are found in many parts of Florida, Texas, and Kentucky in the U.S. They are also common in the U.K., Mexico, Belize, Slovenia, Croatia, and China. When rainwater seeps down through surface soil, it eventually reaches the bedrock below. Slowly and continually, sometimes over hundreds or thousands of years, the water erodes small parts of the rock, creating cracks underground. As the process continues, the soil above is gradually washed into the cracks, and it creates a space in the soil. It is not seen on the surface. As the space becomes too large to support the soil above, it collapses, and a hole opens up on the surface. Though sinkholes form gradually, the final collapse of the surface happens suddenly. The most common factor that triggers a collapse is a change in underground water levels. For example, during long periods of drought, underground water levels will fall. When this happens, the space that was once supported by the water may become weaker and collapse. Another trigger is a rapid increase in surface water. A sudden heavy rain can add dramatically to the weight of the surface soil, making it too heavy for the space beneath to bear. This, too, can bring about a collapse. Sometimes the trigger can be man-made. Most sinkholes we are seeing these days are indirectly related to human activities, such as drilling, mining, or construction. They may also occur because of broken water pipes, heavy traffic, and the excessive use of groundwater. Collapses from these man-made causes can have especially dramatic effects because they often occur in the middle of a street or in housing areas. Recently, many sinkholes have opened up in urban areas around the world, sometimes resulting in tragic accidents. In 2010, in Guatemala City, an area approximately 20 meters wide and 30 meters deep collapsed, swallowing a three story factory and killing 15 people. The sinkhole was caused by the increase of surface water due to tropical storm Agatha and leakage from a local waste water pipe. Generally speaking, naturally occurring sinkholes cannot be prevented. However, if you live in an area where sinkholes have happened before, look around for possible warnings, such as leaning trees, doors or windows that don’t close properly, or rainwater collecting in unusual spots. Sinkholes caused by human carelessness can often be prevented. Thorough soil testing prior to construction and maintaining the underground water and plumbing systems are the best ways to prevent the formation of a sinkhole in the middle of a city. Sinkholes are not widespread events like hurricanes or earthquakes. They are very localized. However, this does not mean that we should ignore the possibility of sinkholes. As our population grows and land development continues, we seem to be seeing more sinkholes and more stories about humans being affected by them. If we look for ways to detect and prevent sinkholes, it may be easier to rescue another Jeff from a sinkhole somewhere else in the world.\""
      ],
      "metadata": {
        "id": "8E5OSFaYHDMq"
      },
      "execution_count": null,
      "outputs": []
    },
    {
      "cell_type": "code",
      "source": [
        "# Step 2: Import the necessary library\n",
        "import pandas as pd\n",
        "from collections import Counter\n",
        "import re\n",
        "\n",
        "# Step 3: Clean and split the text into words\n",
        "# Convert to lowercase and use regex to filter out non-word characters\n",
        "# re.findall(pattern, string)\n",
        "\n",
        "words = re.findall(r'\\b\\w+\\b', text.lower())\n",
        "\n",
        "# Step 4: Count the frequency of each word\n",
        "frequency = Counter(words)\n",
        "\n",
        "# Convert the frequency data to a DataFrame\n",
        "df = pd.DataFrame(frequency.most_common(), columns=['Word', 'Frequency'])\n",
        "\n",
        "# Display the DataFrame\n",
        "print(df)\n",
        "\n",
        "# Save the DataFrame as a CSV file\n",
        "df.to_csv('word_frequency.csv', index=False)"
      ],
      "metadata": {
        "id": "L-jS_yLwFD4z"
      },
      "execution_count": null,
      "outputs": []
    },
    {
      "cell_type": "markdown",
      "source": [
        "Remove '24' (number words)  \n",
        "Current text: **text** (variable name)"
      ],
      "metadata": {
        "id": "WFnZxoE0ISBn"
      }
    },
    {
      "cell_type": "code",
      "source": [
        "# Import necessary libraries\n",
        "from collections import Counter\n",
        "import re\n",
        "import pandas as pd\n",
        "\n",
        "# Clean and split the text into words\n",
        "words = re.findall(r'\\b\\w+\\b', text.lower())\n",
        "\n",
        "# Filter out '24' from the list of words\n",
        "filtered_words = [word for word in words if not word.isdigit()]\n",
        "\n",
        "# Count the frequency of each word\n",
        "frequency = Counter(filtered_words)\n",
        "\n",
        "# Convert the frequency data to a DataFrame\n",
        "df = pd.DataFrame(frequency.most_common(), columns=['Word', 'Frequency'])\n",
        "\n",
        "# Display the DataFrame\n",
        "print(df)\n",
        "\n",
        "# Save the DataFrame as a CSV file\n",
        "df.to_csv('word_frequency.csv', index=False)"
      ],
      "metadata": {
        "id": "vOTIgk3oIU9x"
      },
      "execution_count": null,
      "outputs": []
    },
    {
      "cell_type": "markdown",
      "source": [
        "## File to download\n",
        "\n",
        "+ File location: '\\content\\filename.csv' (colab folder on the left panel)\n",
        "+ Or using codes"
      ],
      "metadata": {
        "id": "RRlY3UbNGXnz"
      }
    },
    {
      "cell_type": "code",
      "source": [
        "# Provide a download link (specific to Google Colab)\n",
        "from google.colab import files\n",
        "\n",
        "# To download the file, remove the # before the code below\n",
        "files.download('/content/word_frequency.csv')"
      ],
      "metadata": {
        "id": "6b96bAEJGU8G"
      },
      "execution_count": null,
      "outputs": []
    },
    {
      "cell_type": "markdown",
      "source": [
        "# Allow users to paste text: Using input function\n",
        "\n",
        "input()"
      ],
      "metadata": {
        "id": "vjXc6NyyJw-P"
      }
    },
    {
      "cell_type": "code",
      "source": [
        "!pip install gradio"
      ],
      "metadata": {
        "id": "oCUvYSluKumB"
      },
      "execution_count": null,
      "outputs": []
    },
    {
      "cell_type": "markdown",
      "source": [
        "### A. Gradio APP #1"
      ],
      "metadata": {
        "id": "BesPw3jQOdoP"
      }
    },
    {
      "cell_type": "code",
      "source": [
        "import gradio as gr\n",
        "from collections import Counter\n",
        "\n",
        "def process_text(text, sorting_option):\n",
        "    words = text.split()\n",
        "\n",
        "    # Count word frequencies\n",
        "    word_counts = Counter(words)\n",
        "\n",
        "    # Sort words based on the selected option\n",
        "    if sorting_option == 'alphabetically':\n",
        "        sorted_words = sorted(word_counts.items(), key=lambda x: x[0])\n",
        "    elif sorting_option == 'by_frequency':\n",
        "        sorted_words = sorted(word_counts.items(), key=lambda x: x[1], reverse=True)\n",
        "    else:\n",
        "        sorted_words = word_counts.items()\n",
        "\n",
        "    # Get the top 5 words with their frequencies\n",
        "    top_5_words = sorted_words[:5]\n",
        "\n",
        "    # Format the top 5 words and frequencies as a string\n",
        "    top_5_string = \"\\n\".join([f\"Word: {word}, Frequency: {freq}\" for word, freq in top_5_words])\n",
        "\n",
        "    return top_5_string\n",
        "\n",
        "iface = gr.Interface(\n",
        "    fn=process_text,\n",
        "    inputs=[gr.Textbox(\"text\", label=\"Paste Text Here\"),\n",
        "            gr.Radio([\"alphabetically\", \"by_frequency\", \"none\"], label=\"Select Sorting Option\")],\n",
        "    outputs=gr.Textbox(label=\"Top 5 Words with Frequencies\")\n",
        ")\n",
        "\n",
        "iface.launch(share=True)\n"
      ],
      "metadata": {
        "id": "hh4XOqEOOd6F"
      },
      "execution_count": null,
      "outputs": []
    },
    {
      "cell_type": "markdown",
      "source": [
        "## B. Gradio App #2"
      ],
      "metadata": {
        "id": "ENKl4V0QPRFS"
      }
    },
    {
      "cell_type": "code",
      "source": [
        "#@markdown The entire frequency list to display\n",
        "\n",
        "import gradio as gr\n",
        "from collections import Counter\n",
        "\n",
        "def process_text(text, sorting_option):\n",
        "    words = text.split()\n",
        "\n",
        "    # Count word frequencies\n",
        "    word_counts = Counter(words)\n",
        "\n",
        "    # Sort words based on the selected option\n",
        "    if sorting_option == 'alphabetically':\n",
        "        sorted_words = sorted(word_counts.items(), key=lambda x: x[0])\n",
        "    elif sorting_option == 'by_frequency':\n",
        "        sorted_words = sorted(word_counts.items(), key=lambda x: x[1], reverse=True)\n",
        "    else:\n",
        "        sorted_words = word_counts.items()\n",
        "\n",
        "    # Get the top 5 words with their frequencies\n",
        "    top_5_words = sorted_words\n",
        "\n",
        "    # Format the top 5 words and frequencies as an HTML table\n",
        "    table_html = \"<table style='width:100%'><tr><th>Word</th><th>Frequency</th></tr>\"\n",
        "    for word, freq in top_5_words:\n",
        "        table_html += f\"<tr><td>{word}</td><td>{freq}</td></tr>\"\n",
        "    table_html += \"</table>\"\n",
        "\n",
        "    return table_html\n",
        "\n",
        "iface = gr.Interface(\n",
        "    fn=process_text,\n",
        "    inputs=[gr.Textbox(\"text\", label=\"Paste Text Here\"),\n",
        "            gr.Radio([\"alphabetically\", \"by_frequency\", \"none\"], label=\"Select Sorting Option\")],\n",
        "    outputs=gr.HTML(label=\"Top 5 Words with Frequencies\")\n",
        ")\n",
        "\n",
        "iface.launch(share=True)\n"
      ],
      "metadata": {
        "id": "Pv7qxfjEPRaD",
        "cellView": "form"
      },
      "execution_count": null,
      "outputs": []
    },
    {
      "cell_type": "markdown",
      "source": [
        "## Gradio APP#3"
      ],
      "metadata": {
        "id": "rpnpMi2LeSV0"
      }
    },
    {
      "cell_type": "code",
      "source": [
        "#@markdown Top 3 to display and csv file to download\n",
        "import gradio as gr\n",
        "from collections import Counter\n",
        "import string\n",
        "import csv\n",
        "import io\n",
        "\n",
        "def process_text(text, sorting_option):\n",
        "    # Remove punctuation from the input text\n",
        "    translator = str.maketrans('', '', string.punctuation)\n",
        "    text = text.translate(translator)\n",
        "\n",
        "    words = text.split()\n",
        "\n",
        "    # Count word frequencies\n",
        "    word_counts = Counter(words)\n",
        "\n",
        "    # Sort words based on the selected option\n",
        "    if sorting_option == 'alphabetically':\n",
        "        sorted_words = sorted(word_counts.items(), key=lambda x: x[0])\n",
        "    elif sorting_option == 'by_frequency':\n",
        "        sorted_words = sorted(word_counts.items(), key=lambda x: x[1], reverse=True)\n",
        "    else:\n",
        "        sorted_words = word_counts.items()\n",
        "\n",
        "    # Get the top 5 words with their frequencies\n",
        "    top_5_words = sorted_words\n",
        "\n",
        "    # Format the top 5 words and frequencies as an HTML table\n",
        "    table_html = \"<table style='width:100%'><tr><th>Word</th><th>Frequency</th></tr>\"\n",
        "    for word, freq in top_5_words:\n",
        "        table_html += f\"<tr><td>{word}</td><td>{freq}</td></tr>\"\n",
        "    table_html += \"</table>\"\n",
        "\n",
        "    # Create a CSV file\n",
        "    csv_data = []\n",
        "    for word, freq in top_5_words:\n",
        "        csv_data.append([word, freq])\n",
        "\n",
        "    # Write CSV data to a string buffer\n",
        "    csv_buffer = io.StringIO()\n",
        "    csv_writer = csv.writer(csv_buffer)\n",
        "    csv_writer.writerow([\"Word\", \"Frequency\"])\n",
        "    csv_writer.writerows(csv_data)\n",
        "    csv_buffer.seek(0)\n",
        "\n",
        "    # Create a download link for the CSV file\n",
        "    csv_download_link = f\"<a href='data:application/csv;charset=utf-8,{csv_buffer.getvalue()}' download='word_frequencies.csv'>Download CSV</a>\"\n",
        "\n",
        "    # Wrap the table in a div with a fixed height and scrolling\n",
        "    div_with_scroll = f\"<div style='height: 200px; overflow-y: scroll;'>{table_html}</div>\"\n",
        "\n",
        "    return div_with_scroll, csv_download_link\n",
        "\n",
        "iface = gr.Interface(\n",
        "    fn=process_text,\n",
        "    inputs=[gr.Textbox(\"text\", label=\"Paste Text Here\"),\n",
        "            gr.Radio([\"alphabetically\", \"by_frequency\", \"none\"], label=\"Select Sorting Option\")],\n",
        "    outputs=[gr.HTML(label=\"Top 5 Words with Frequencies\"), gr.HTML(label=\"Download CSV\")]\n",
        ")\n",
        "\n",
        "iface.launch(share=True)\n"
      ],
      "metadata": {
        "id": "ojfeMe9BWwG4",
        "cellView": "form"
      },
      "execution_count": null,
      "outputs": []
    },
    {
      "cell_type": "markdown",
      "source": [
        "---\n",
        "\n",
        "App running on Hugginface [APP link](https://huggingface.co/spaces/MK-316/freqlist)\n",
        "\n",
        "\n",
        "The End"
      ],
      "metadata": {
        "id": "3IvMrSWLeWSi"
      }
    }
  ]
}