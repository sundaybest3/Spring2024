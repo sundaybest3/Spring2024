{
  "nbformat": 4,
  "nbformat_minor": 0,
  "metadata": {
    "colab": {
      "private_outputs": true,
      "provenance": [],
      "include_colab_link": true
    },
    "kernelspec": {
      "name": "python3",
      "display_name": "Python 3"
    },
    "language_info": {
      "name": "python"
    }
  },
  "cells": [
    {
      "cell_type": "markdown",
      "metadata": {
        "id": "view-in-github",
        "colab_type": "text"
      },
      "source": [
        "<a href=\"https://colab.research.google.com/github/sundaybest3/Spring2024/blob/main/Seminar/Chi_Squared_Independence.ipynb\" target=\"_parent\"><img src=\"https://colab.research.google.com/assets/colab-badge.svg\" alt=\"Open In Colab\"/></a>"
      ]
    },
    {
      "cell_type": "markdown",
      "source": [
        "# 📙**Part 1. Chi-Squared Test of Independence**\n",
        "\n",
        "### This is a statistical method used to determine if there is a significant association between two categorical variables.\n",
        "\n",
        "\n",
        "+ Note: There are 3 datasets for you to practice. Complete them by 5/23 (save this file to your Github repository)"
      ],
      "metadata": {
        "id": "PIoVovQR6GB8"
      }
    },
    {
      "cell_type": "markdown",
      "source": [
        "# Sample data analysis (Kim MR)"
      ],
      "metadata": {
        "id": "v4R-bmLgTHoC"
      }
    },
    {
      "cell_type": "markdown",
      "source": [
        "## 0.1 Example data: Self-Perception of English Proficiency by Gender\n",
        "\n",
        "+ Description: This dataset represents a survey conducted among a group of 200 students to explore **how they perceive their own English proficiency**. The aim of the study is to investigate whether there are noticeable differences in self-assessment of English skills between genders. Note that their test scores had no statistical difference between the two groups.\n",
        "\n",
        "+ Each participant in the survey was asked to classify their English language skills into one of three categories:\n",
        "\n",
        "  + **Beginner**: The student feels that they are just starting to learn English and have limited ability to use the language.\n",
        "  + **Intermediate**: The student has a basic command of the English language but might struggle with complex grammar structures and extensive vocabulary.\n",
        "  + **Advanced**: The student feels confident in using the English language fluently and accurately on all levels.\n",
        "\n",
        "\n",
        "### 0.2 Objective of the Analysis\n",
        "\n",
        "+ The primary objective for analyzing this dataset is to determine **if there is a statistically significant association between gender and self-perceived English proficiency levels.**\n",
        "+ By understanding these patterns, educators can better address the confidence and educational needs of students based on their self-perceived language abilities.\n",
        "\n",
        "### 0.3 Dataset preview\n",
        "\n",
        "|Gender|Proficiency|\n",
        "|--|--|\n",
        "|Female|Intermediate|\n",
        "|Male|Beginner|\n",
        "|Male|Beginner|\n",
        "|Female|Advanced|\n",
        "|...|...|\n",
        "\n",
        "+ 💾 [1. sample data in Github](https://github.com/MK316/Spring2024/blob/main/Seminar/data/statsample.csv),\n",
        "+ 💾 [2. Raw data](https://raw.githubusercontent.com/MK316/Spring2024/main/Seminar/data/statsample.csv)\n"
      ],
      "metadata": {
        "id": "AwZyNcyJ-SdJ"
      }
    },
    {
      "cell_type": "markdown",
      "source": [
        "### 🔎 Null hypothesis: _Gender (Male, Female) is independent of self-perceived English proficiency levels (Beginner, Intermediate, Advanced)._\n",
        "### 🔎 Alternative hypothesis: _There is a dependence between gender and self-perceived English proficiency levels._"
      ],
      "metadata": {
        "id": "IGdNzqROPSUf"
      }
    },
    {
      "cell_type": "markdown",
      "source": [
        "## Step [1] Read data and examine the data structure"
      ],
      "metadata": {
        "id": "OfH-JUgKAy3O"
      }
    },
    {
      "cell_type": "code",
      "source": [
        "# Read csv using a web link (The file is saved in my github account)\n",
        "\n",
        "import pandas as pd\n",
        "\n",
        "url = \"https://raw.githubusercontent.com/MK316/Spring2024/main/Seminar/data/statsample.csv\"\n",
        "df = pd.read_csv(url)\n",
        "df.tail()"
      ],
      "metadata": {
        "id": "Y-ZJkjMC-RpD"
      },
      "execution_count": null,
      "outputs": []
    },
    {
      "cell_type": "markdown",
      "source": [
        "## Step [2] Generate the contingency table"
      ],
      "metadata": {
        "id": "SRDwYq7sEz8X"
      }
    },
    {
      "cell_type": "code",
      "source": [
        "# Contingency table\n",
        "\n",
        "# import pandas as pd\n",
        "\n",
        "# Generating the contingency table\n",
        "contingency_table = pd.crosstab(df['Gender'], df['Proficiency'])\n",
        "\n",
        "# Display the contingency table\n",
        "print(contingency_table)\n"
      ],
      "metadata": {
        "id": "0n7CiY4pDPCA"
      },
      "execution_count": null,
      "outputs": []
    },
    {
      "cell_type": "code",
      "source": [
        "# Contingency table with total counts\n",
        "\n",
        "contingency_table_total = pd.crosstab(df['Gender'], df['Proficiency'], margins = True, margins_name=\"Total\")\n",
        "print(contingency_table_total)"
      ],
      "metadata": {
        "id": "FOw9uje4EUQw"
      },
      "execution_count": null,
      "outputs": []
    },
    {
      "cell_type": "code",
      "source": [
        "# Save the contingency table to a CSV file\n",
        "\n",
        "contingency_table_total.to_csv('contingency_table_sample.csv')"
      ],
      "metadata": {
        "id": "cgHw0TO5EjFR"
      },
      "execution_count": null,
      "outputs": []
    },
    {
      "cell_type": "markdown",
      "source": [
        "## Step [3] Conducting Chi-Squared test of independence"
      ],
      "metadata": {
        "id": "OB4GNTCHEvgL"
      }
    },
    {
      "cell_type": "code",
      "source": [
        "import pandas as pd\n",
        "from scipy.stats import chi2_contingency\n",
        "\n",
        "# Generating the contingency table\n",
        "contingency_table = pd.crosstab(df['Gender'], df['Proficiency'])\n",
        "\n",
        "# Perform the Chi-squared test of independence\n",
        "chi2, p, dof, expected = chi2_contingency(contingency_table)\n",
        "\n",
        "# Convert the expected frequencies into a DataFrame\n",
        "expected_df = pd.DataFrame(expected, columns=contingency_table.columns, index=contingency_table.index)\n",
        "\n",
        "# Output the results\n",
        "print(f\"Chi-squared Statistic: {chi2}\")\n",
        "print(f\"P-value: {p}\")\n",
        "print(f\"Degrees of Freedom: {dof}\")\n",
        "print(\"=\"*50)\n",
        "print(\"Contingency table:\")\n",
        "print(\"=\"*50)\n",
        "print(contingency_table_total)\n",
        "print(\"=\"*50)\n",
        "print(\"Expected Frequencies Table:\")\n",
        "print(\"=\"*50)\n",
        "print(expected_df)"
      ],
      "metadata": {
        "id": "D1a9O-rJE_4o"
      },
      "execution_count": null,
      "outputs": []
    },
    {
      "cell_type": "markdown",
      "source": [
        "## Step [4] Reporting\n",
        "\n",
        "+ **[General description]** The objective of this analysis was to determine whether there is a significant association between gender (Female, Male) and self-reported English proficiency levels (Advanced, Beginner, Intermediate). The survey data gathered responses from 200 participants (F=102, M=98).\n",
        "+ **[Data summary]** A contingency table was constructed from the survey responses to cross-tabulate the frequencies of reported English proficiency by gender. The contingency table and expected frequencies were as follows: (You should include observed and expected frequency tables)\n",
        "+ **[Chi-squared test result]** The Chi-squared test of independence was applied to assess if the observed differences in proficiency levels across genders were not statistically significant ($\\chi^2 = 2.5768$, df = 2, $p = 0.2757$).\n"
      ],
      "metadata": {
        "id": "sONDNmEFGx8t"
      }
    },
    {
      "cell_type": "markdown",
      "source": [
        "## Step [5] Interpretation of the result and make a conclusion\n",
        "\n",
        "+ **Interpretation**: The Chi-squared statistic of 2.5768 with 2 degrees of freedom and a p-value of 0.2757 suggests that there is no statistically significant association between gender and English proficiency levels, as the observed differences between actual and expected frequencies do not deviate enough from the null hypothesis at the conventional significance level of 0.05.\n",
        "+ **Conclusion**: The test results indicate that **gender does not significantly influence how participants perceive their English proficiency**. This lack of significant difference suggests that both genders are equally distributed across the levels of English proficiency as reported in this survey. Educational programs and resources aiming to enhance English proficiency can thus be designed without gender-specific modifications based on this dataset."
      ],
      "metadata": {
        "id": "mRqYhRNsIgfR"
      }
    },
    {
      "cell_type": "markdown",
      "source": [
        "---\n",
        "# ⏰ Data set 1 (Jung WC)\n",
        "\n",
        "+ **Description**: This dataset represents a survey conducted to understand preferences for electronic bicycles across different age groups. The survey targeted three main demographic groups: Teens, Adults, and Seniors. Participants in each age group were asked whether they like or dislike electronic bicycles. The survey aimed to capture trends and preferences that could influence market strategies and product development for electronic bicycles.\n",
        "\n",
        "+ **Data Collection Methodology**:\n",
        "The data was collected through an online survey distributed via email and social media platforms. Respondents were classified into three age groups:\n",
        "\n",
        "  + Teens: Ages 13-19\n",
        "  + Adults: Ages 20-59\n",
        "  + Seniors: Ages 60 and above\n",
        "\n",
        "+ Data preview\n",
        "\n",
        "|Age_group|Ebikes_preference|\n",
        "|--|--|\n",
        "|Teen|Likes|\n",
        "|Teen|Likes|\n",
        "|Adult|Likes|\n",
        "|Adult|Dislikes|\n",
        "|Senior|Likes|\n",
        "|...|...|\n",
        "\n",
        "+ 💾[data set01: rawdata](https://raw.githubusercontent.com/MK316/Spring2024/main/Seminar/data/statdata01.csv)\n",
        "\n",
        "---\n",
        "## To do\n",
        "\n",
        "Your task is to determine whether there is a statistically significant association between age group and preference for E-Bikes. You are expected to apply the Chi-squared test of independence to this contingency table to assess this relationship."
      ],
      "metadata": {
        "id": "o0XBDWZU7DlD"
      }
    },
    {
      "cell_type": "markdown",
      "source": [
        "### 🔎 Null hypothesis: _Gender (Male, Female) is independent of self-perceived English proficiency levels (Beginner, Intermediate, Advanced)._\n",
        "### 🔎 Alternative hypothesis: _There is a dependence between gender and self-perceived English proficiency levels._"
      ],
      "metadata": {
        "id": "Q7SeuWdnO6ml"
      }
    },
    {
      "cell_type": "markdown",
      "source": [
        "## Step [1] Read data and examine the data structure"
      ],
      "metadata": {
        "id": "ulyMX1BpLAbT"
      }
    },
    {
      "cell_type": "code",
      "execution_count": null,
      "metadata": {
        "id": "KllZydVO-FJU"
      },
      "outputs": [],
      "source": []
    },
    {
      "cell_type": "markdown",
      "source": [
        "## Step [2] Generate the contingency table"
      ],
      "metadata": {
        "id": "eBcZaA7zLCyc"
      }
    },
    {
      "cell_type": "code",
      "source": [],
      "metadata": {
        "id": "UToEK4YwLDrD"
      },
      "execution_count": null,
      "outputs": []
    },
    {
      "cell_type": "markdown",
      "source": [
        "## Step [3] Conducting Chi-Squared test of independence"
      ],
      "metadata": {
        "id": "MPUDxm7wLEAR"
      }
    },
    {
      "cell_type": "code",
      "source": [],
      "metadata": {
        "id": "YthB09JQLE_t"
      },
      "execution_count": null,
      "outputs": []
    },
    {
      "cell_type": "markdown",
      "source": [
        "## Step [4] Reporting\n",
        "\n",
        "Write here...."
      ],
      "metadata": {
        "id": "WvbfhEg8LFkz"
      }
    },
    {
      "cell_type": "markdown",
      "source": [
        "## Step [5] Interpretation of the result and make a conclusion\n",
        "\n",
        "Write here..."
      ],
      "metadata": {
        "id": "5tCxeDm5LHsG"
      }
    },
    {
      "cell_type": "markdown",
      "source": [
        "---\n",
        "# ⏰ Data set 2 (Sohn HS)\n",
        "\n",
        "## 2.1 Data Description\n",
        "This dataset examines the association between the frequency of exercise and self-perceived health status among a sample population. The study seeks to understand how often individuals engage in physical activity and how this affects their perception of their own health. The respondents were categorized based on their regularity of exercise into three groups: those who exercise regularly, those who seldom exercise, and those who never exercise.\n",
        "\n",
        "## Dataset Composition\n",
        "The responses were collected from a total of 600 participants, divided evenly among the exercise frequency categories:\n",
        "\n",
        "+ Exercise Regularly: 200 participants\n",
        "+ Seldom Exercise: 200 participants\n",
        "+ Never Exercise: 200 participants\n",
        "\n",
        "## Data preview 💾[dataset02](https://github.com/MK316/Spring2024/blob/main/Seminar/data/statdata02.csv)\n",
        "\n",
        "|Exercise_Frequency|Health_Perception|\n",
        "|--|--|\n",
        "|Exercise Regularly|Healthy|\n",
        "|Exercise Regularly|Healthy|\n",
        "|Exercise Regularly|Unhealthy|\n",
        "|Exercise Regularly|Unhealthy|\n",
        "|...|...|\n",
        "\n",
        "\n",
        "## Objective\n",
        "Your task is to apply the Chi-squared test of independence to determine if there is a statistically significant relationship between the frequency of exercise and health perception."
      ],
      "metadata": {
        "id": "0_J_cma6JtLY"
      }
    },
    {
      "cell_type": "markdown",
      "source": [
        "### 🔎 Null hypothesis: (write this down for yourself)\n",
        "### 🔎 Alternative hypothesis: (write this down for yourself)"
      ],
      "metadata": {
        "id": "lId_1JfROr4B"
      }
    },
    {
      "cell_type": "markdown",
      "source": [
        "## Step [1] Read data and examine the data structure"
      ],
      "metadata": {
        "id": "p9Nz9CpmLQS0"
      }
    },
    {
      "cell_type": "code",
      "execution_count": null,
      "metadata": {
        "id": "SnE3CwNQLQS0",
        "collapsed": true
      },
      "outputs": [],
      "source": []
    },
    {
      "cell_type": "markdown",
      "source": [
        "## Step [2] Generate the contingency table"
      ],
      "metadata": {
        "id": "hDZBAae1LQS0"
      }
    },
    {
      "cell_type": "code",
      "source": [],
      "metadata": {
        "id": "CgPBdNbMLQS0"
      },
      "execution_count": null,
      "outputs": []
    },
    {
      "cell_type": "markdown",
      "source": [
        "## Step [3] Conducting Chi-Squared test of independence"
      ],
      "metadata": {
        "id": "72BwiuwCLQS1"
      }
    },
    {
      "cell_type": "code",
      "source": [],
      "metadata": {
        "id": "OKrUMiGcLQS1"
      },
      "execution_count": null,
      "outputs": []
    },
    {
      "cell_type": "markdown",
      "source": [
        "## Step [4] Reporting"
      ],
      "metadata": {
        "id": "JGi3PzX3LQS1"
      }
    },
    {
      "cell_type": "markdown",
      "source": [
        "## Step [5] Interpretation of the result and make a conclusion"
      ],
      "metadata": {
        "id": "r3rFtkk8LQS1"
      }
    },
    {
      "cell_type": "markdown",
      "source": [
        "---\n",
        "# ⏰ Data set 3 (Choi JM)\n",
        "\n",
        "## 3.1 Data Description\n",
        "\n",
        "This dataset investigates the relationship **between students' academic majors and their interest in enrolling in online courses**. The aim of this study is to determine **if there are significant differences in online course interest among students from various academic backgrounds**. Students from three major academic fields—Science, Engineering, and Humanities—were surveyed to assess their interest levels.\n",
        "\n",
        "## 3.2 Data Composition\n",
        "\n",
        "Dataset Composition\n",
        "The survey gathered responses from a total of 600 students, distributed equally across the different majors:\n",
        "\n",
        "+ Science: 200 students\n",
        "+ Engineering: 200 students\n",
        "+ Humanities: 200 students\n",
        "\n",
        "## 3.3 Objective\n",
        "\n",
        "Your task is to apply the Chi-squared test of independence to explore if there is a statistically significant relationship between students' study majors and their interest in online courses.\n",
        "\n",
        "## Data preview: 💾[dataset03](https://github.com/MK316/Spring2024/blob/main/Seminar/data/statdata03.csv)\n",
        "\n",
        "|Major|Interest_OnlineCourses|\n",
        "|--|--|\n",
        "|Science|Interested|\n",
        "|Science |Not Interested|\n",
        "|Engineering|Interested|\n",
        "|Humanities\t|Not Interested|\n",
        "|...|...|"
      ],
      "metadata": {
        "id": "nkDausRgJxqN"
      }
    },
    {
      "cell_type": "markdown",
      "source": [
        "### 🔎 Null hypothesis: _Students' academic majors(Science, Engineering, Humanities) are independent of their interest in enrolling in online courses(nterested, not interested)._\n",
        "### 🔎 Alternative hypothesis: _There is a dependence between students' academic majors and their interest in enrolling in online courses._"
      ],
      "metadata": {
        "id": "RfPWkwARRGR3"
      }
    },
    {
      "cell_type": "markdown",
      "source": [
        "## Step [1] Read data and examine the data structure"
      ],
      "metadata": {
        "id": "7e6915ezLTxu"
      }
    },
    {
      "cell_type": "code",
      "execution_count": null,
      "metadata": {
        "id": "iOFqaCyXLTxu"
      },
      "outputs": [],
      "source": [
        "# Read csv using a web link (The file is saved in my github account)\n",
        "\n",
        "import pandas as pd\n",
        "\n",
        "url = \"https://raw.githubusercontent.com/MK316/Spring2024/main/Seminar/data/statdata03.csv\"\n",
        "df = pd.read_csv(url)\n",
        "df.tail()"
      ]
    },
    {
      "cell_type": "markdown",
      "source": [
        "## Step [2] Generate the contingency table"
      ],
      "metadata": {
        "id": "wXNnzKQ2LTxu"
      }
    },
    {
      "cell_type": "code",
      "source": [
        "# Contingency table\n",
        "\n",
        "# import pandas as pd\n",
        "\n",
        "# Generating the contingency table\n",
        "contingency_table = pd.crosstab(df['Major'], df['Interest_OnlineCourses'])\n",
        "\n",
        "# Display the contingency table\n",
        "print(contingency_table)\n",
        "\n",
        "contingency_table_total = pd.crosstab(df['Major'], df['Interest_OnlineCourses'], margins = True, margins_name=\"Total\")\n",
        "print(contingency_table_total)\n"
      ],
      "metadata": {
        "id": "RKev4i5eLTxv"
      },
      "execution_count": null,
      "outputs": []
    },
    {
      "cell_type": "code",
      "source": [
        "# Save the contingency table to a CSV file\n",
        "\n",
        "contingency_table_total.to_csv('contingency_table_sample.csv')"
      ],
      "metadata": {
        "id": "-UJNnt1bSDnx"
      },
      "execution_count": null,
      "outputs": []
    },
    {
      "cell_type": "markdown",
      "source": [
        "## Step [3] Conducting Chi-Squared test of independence"
      ],
      "metadata": {
        "id": "wkn8cxBfLTxv"
      }
    },
    {
      "cell_type": "code",
      "source": [
        "import pandas as pd\n",
        "from scipy.stats import chi2_contingency\n",
        "\n",
        "# Generating the contingency table\n",
        "contingency_table = pd.crosstab(df['Major'], df['Interest_OnlineCourses'])\n",
        "\n",
        "# Perform the Chi-squared test of independence\n",
        "chi2, p, dof, expected = chi2_contingency(contingency_table)\n",
        "\n",
        "# Convert the expected frequencies into a DataFrame\n",
        "expected_df = pd.DataFrame(expected, columns=contingency_table.columns, index=contingency_table.index)\n",
        "\n",
        "# Output the results\n",
        "print(f\"Chi-squared Statistic: {chi2}\")\n",
        "print(f\"P-value: {p}\")\n",
        "print(f\"Degrees of Freedom: {dof}\")\n",
        "print(\"=\"*50)\n",
        "print(\"Contingency table:\")\n",
        "print(\"=\"*50)\n",
        "print(contingency_table_total)\n",
        "print(\"=\"*50)\n",
        "print(\"Expected Frequencies Table:\")\n",
        "print(\"=\"*50)\n",
        "print(expected_df)"
      ],
      "metadata": {
        "id": "DFKtWcFNLTxv"
      },
      "execution_count": null,
      "outputs": []
    },
    {
      "cell_type": "markdown",
      "source": [
        "## Step [4] Reporting\n",
        "\n",
        "+ **[General description]** The objective of this analysis was to determine whether there is a significant association between students' academic majors and their interest in enrolling in online courses. The survey data gathered responses from 600 participants (E=200, H=200, S=200).\n",
        "+ **[Data summary]** A contingency table was constructed from the survey responses to cross-tabulate the frequencies of reported interest in enrolling in online courses by students' academic major. The contingency table and expected frequencies were as follows:\n",
        "\n",
        "+ **[Chi-squared test result]** The Chi-squared test of independence was applied to assess if the observed interest in enrolling in online courses across students' academic majors were statistically significant ($\\chi^2 = 65.406$, DoF = 2, $p = 6.269979329252908e-15$)."
      ],
      "metadata": {
        "id": "syYOuUWULTxv"
      }
    },
    {
      "cell_type": "markdown",
      "source": [
        "## Step [5] Interpretation of the result and make a conclusion\n",
        "\n",
        "+ **Interpretation**: The Chi-squared statistic of 65.406 with 2 degrees of freedom and a p-value of 6.269979329252908e-15 suggests that there is a statistically significant association between students' academic majors and their interest in enrolling in online courses, as the observed frequencies of interest and non-interest differ markedly from the expected frequencies, indicating that certain majors are more or less interested in online courses than would be expected by chance alone. For example, in Engineering,  140 students are interested (observed) compared to 96.67 (expected), and 60 are not interested (observed) compared to 103.33 (expected).\n",
        "+ **Conclusion**: The test results indicate that **students' academic majors significantly influence their interests in enrolling in online courses**. This significant difference suggests that students' interest in enrollig in online courses varies significantly depending on their academic majors."
      ],
      "metadata": {
        "id": "uNjTiU34LTxv"
      }
    },
    {
      "cell_type": "markdown",
      "source": [
        "---\n",
        "The End"
      ],
      "metadata": {
        "id": "F3y29jFtPqox"
      }
    }
  ]
}