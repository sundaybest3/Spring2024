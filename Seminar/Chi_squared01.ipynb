{
  "nbformat": 4,
  "nbformat_minor": 0,
  "metadata": {
    "colab": {
      "private_outputs": true,
      "provenance": [],
      "include_colab_link": true
    },
    "kernelspec": {
      "name": "python3",
      "display_name": "Python 3"
    },
    "language_info": {
      "name": "python"
    }
  },
  "cells": [
    {
      "cell_type": "markdown",
      "metadata": {
        "id": "view-in-github",
        "colab_type": "text"
      },
      "source": [
        "<a href=\"https://colab.research.google.com/github/sundaybest3/Spring2024/blob/main/Seminar/Chi_squared01.ipynb\" target=\"_parent\"><img src=\"https://colab.research.google.com/assets/colab-badge.svg\" alt=\"Open In Colab\"/></a>"
      ]
    },
    {
      "cell_type": "markdown",
      "source": [
        "# Chi-squared test\n",
        "\n",
        "**[1] Goodness of fit test**  \n",
        "\n",
        "**[2] Independence test**"
      ],
      "metadata": {
        "id": "TDgvoCGT2UGF"
      }
    },
    {
      "cell_type": "markdown",
      "source": [
        "## [1] Goodness of Fit Test\n",
        "\n",
        "- Let's assume we have a dice-rolling experiment. We roll a six-sided die 60 times and record the frequency of each outcome. We want to test if the die is fair (i.e., each number has an equal chance of appearing).\n",
        "\n",
        "- Observed (N=60)\n",
        "\n",
        "Data#1\n",
        "\n",
        "|Face|1|2|3|4|5|6|\n",
        "|--|--|--|--|--|--|--|\n",
        "|Observed|10|9|11|7|13|10|\n",
        "|Expected|10|10|10|10|10|10|\n",
        "\n",
        "\n",
        "Data#2\n",
        "\n",
        "|Face|1|2|3|4|5|6|\n",
        "|--|--|--|--|--|--|--|\n",
        "|Observed|12|7|15|3|18|8|\n",
        "|Expected|10|10|10|10|10|10|"
      ],
      "metadata": {
        "id": "S9pWMllD31D0"
      }
    },
    {
      "cell_type": "code",
      "execution_count": null,
      "metadata": {
        "id": "rhgJ-fC52Thg"
      },
      "outputs": [],
      "source": [
        "# Data #1\n",
        "\n",
        "import pandas as pd\n",
        "from scipy.stats import chisquare\n",
        "\n",
        "# Observed frequencies from dice rolls (example data)\n",
        "observed_frequencies = [10, 9, 11, 7, 13, 10]  # Sum should be 60\n",
        "expected_frequencies = [10, 10, 10, 10, 10, 10]  # Fair die expectation\n",
        "\n",
        "# Conducting the chi-squared goodness of fit test\n",
        "chi_stat, p_value = chisquare(f_obs=observed_frequencies, f_exp=expected_frequencies)\n",
        "\n",
        "print(\"Chi-squared statistic:\", chi_stat)\n",
        "print(\"P-value:\", p_value)\n"
      ]
    },
    {
      "cell_type": "code",
      "source": [
        "# Data #2\n",
        "# Observed frequencies from dice rolls (example data)\n",
        "observed_frequencies = [12, 7, 15, 3, 15, 8]  # Sum should be 60\n",
        "expected_frequencies = [10, 10, 10, 10, 10, 10]  # Fair die expectation\n",
        "\n",
        "# Conducting the chi-squared goodness of fit test\n",
        "chi_stat, p_value = chisquare(f_obs=observed_frequencies, f_exp=expected_frequencies)\n",
        "\n",
        "print(\"Chi-squared statistic:\", chi_stat)\n",
        "print(\"P-value:\", p_value)\n",
        "#df=5"
      ],
      "metadata": {
        "id": "yHB2hX9YWlZ8"
      },
      "execution_count": null,
      "outputs": []
    },
    {
      "cell_type": "markdown",
      "source": [
        "* Result interpretation:\n",
        "\n",
        "> Chi-squared statistic: 2.0  \n",
        "> P-value: 0.8491450360846096\n",
        "\n",
        "\n",
        "**Chi-squared statistic:** A higher value indicates a greater deviation from the expected frequencies.\n",
        "\n",
        "**P-value:** If this value is less than the chosen significance level (commonly 0.05), we reject the null hypothesis, suggesting the die might not be fair.\n"
      ],
      "metadata": {
        "id": "Ygfv4I5O4OlA"
      }
    },
    {
      "cell_type": "markdown",
      "source": [
        "Data#3\n",
        "\n",
        "|Face|1|2|3|4|5|6|\n",
        "|--|--|--|--|--|--|--|\n",
        "|Observed|150|80|90|85|95|100|\n",
        "|Expected|100|100|100|100|100|100|"
      ],
      "metadata": {
        "id": "CHpnxx-mXsv8"
      }
    },
    {
      "cell_type": "code",
      "source": [
        "# Data #3 N = 600 times\n",
        "\n",
        "import pandas as pd\n",
        "from scipy.stats import chisquare\n",
        "\n",
        "# Observed frequencies from dice rolls (example data)\n",
        "observed_frequencies = [150, 80, 90, 85, 95, 100]  # Sum should be 60\n",
        "expected_frequencies = [100, 100, 100, 100, 100, 100]  # Fair die expectation\n",
        "\n",
        "# Conducting the chi-squared goodness of fit test\n",
        "chi_stat, p_value = chisquare(f_obs=observed_frequencies, f_exp=expected_frequencies)\n",
        "\n",
        "print(\"Chi-squared statistic:\", chi_stat)\n",
        "print(\"P-value:\", p_value)\n"
      ],
      "metadata": {
        "id": "U0BaEMib_OOk"
      },
      "execution_count": null,
      "outputs": []
    },
    {
      "cell_type": "markdown",
      "source": [
        "## [2] Independence test\n",
        "\n",
        "* Suppose we have data on 100 people, categorizing them by gender (Male, Female) and whether they prefer tea or coffee.\n",
        "* The null hypothesis: there is no association (i.e., independence) between the two categorical variables being tested."
      ],
      "metadata": {
        "id": "k__g4WSc4pbI"
      }
    },
    {
      "cell_type": "markdown",
      "source": [
        "DATA #1 (data size: Female 50, Male 50)\n",
        "\n",
        "|Preference|TEA | COFFEE|\n",
        "|--|--|--|\n",
        "|Male|30|20|\n",
        "|Female|20|30|"
      ],
      "metadata": {
        "id": "gxM0tPGb71_E"
      }
    },
    {
      "cell_type": "code",
      "source": [
        "#chi2_contingency\n",
        "\n",
        "from scipy.stats import chi2_contingency\n",
        "\n",
        "# Sample data in a contingency table\n",
        "data = {'Tea': [30, 20], 'Coffee': [20, 30]} # First row: Male, Second row: Female\n",
        "df = pd.DataFrame(data, index=['Male', 'Female'])\n",
        "\n",
        "# Conducting the chi-squared test of independence\n",
        "chi_stat, p_value, dof, expected = chi2_contingency(df)\n",
        "\n",
        "print(\"Chi-squared statistic:\", chi_stat)\n",
        "print(\"P-value:\", p_value)\n",
        "print(\"Degrees of Freedom:\", dof)\n",
        "print(\"Expected Frequencies:\\n\", expected)\n"
      ],
      "metadata": {
        "id": "mOQipRNa4zCH"
      },
      "execution_count": null,
      "outputs": []
    },
    {
      "cell_type": "markdown",
      "source": [
        "DATA #2 (data size: Female 500, Male 500)\n",
        "\n",
        "|Preference|TEA | COFFEE|\n",
        "|--|--|--|\n",
        "|Male|300|200|\n",
        "|Female|200|300|"
      ],
      "metadata": {
        "id": "2ySwTcrU8D-B"
      }
    },
    {
      "cell_type": "code",
      "source": [
        "from scipy.stats import chi2_contingency\n",
        "\n",
        "# Sample data in a contingency table\n",
        "data = {'Tea': [300, 200], 'Coffee': [200, 300]} # First row: Male, Second row: Female\n",
        "df = pd.DataFrame(data, index=['Male', 'Female'])\n",
        "\n",
        "# Conducting the chi-squared test of independence\n",
        "chi_stat, p_value, dof, expected = chi2_contingency(df)\n",
        "\n",
        "print(\"Chi-squared statistic:\", chi_stat)\n",
        "print(\"P-value:\", p_value)\n",
        "print(\"Degrees of Freedom:\", dof)\n",
        "print(\"Expected Frequencies:\\n\", expected)\n"
      ],
      "metadata": {
        "id": "AErtIf_M7hUF"
      },
      "execution_count": null,
      "outputs": []
    },
    {
      "cell_type": "markdown",
      "source": [
        "In the notation \"3.817573261251463e-10\", the 'e' stands for \"exponent\" in scientific notation. This notation is a way of expressing numbers that are too large or too small to be conveniently written in decimal form. It is particularly useful in fields like science and engineering where such numbers are common."
      ],
      "metadata": {
        "id": "2ZcXyh19aDrF"
      }
    },
    {
      "cell_type": "code",
      "source": [
        "p_value = 3.817573261251463e-10\n",
        "print(f\"P-value: {p_value:.12f}\")\n",
        "#p-value를 보기 쉽게 하는 코드"
      ],
      "metadata": {
        "id": "B2raLg5Z7vy-"
      },
      "execution_count": null,
      "outputs": []
    },
    {
      "cell_type": "markdown",
      "source": [
        "### **Interpretation:**\n",
        "\n",
        "* **Chi-squared statistic:** Measures how much the observed frequencies deviate from the expected frequencies if the two variables (gender and beverage preference) were independent.\n",
        "\n",
        "* **P-value:** If this is below our significance level (often 0.05), we reject the null hypothesis, indicating a significant association between gender and beverage preference.\n",
        "\n",
        "* **Degrees of Freedom:** Calculated based on the number of categories in each variable.\n",
        "Expected Frequencies: The frequencies we would expect if there were no association between the variables."
      ],
      "metadata": {
        "id": "PP2fTHJQ4_Ao"
      }
    },
    {
      "cell_type": "markdown",
      "source": [
        "# Visualization"
      ],
      "metadata": {
        "id": "BMp9iZSJ5dLW"
      }
    },
    {
      "cell_type": "markdown",
      "source": [],
      "metadata": {
        "id": "QBpc6jdS5eiT"
      }
    },
    {
      "cell_type": "code",
      "source": [
        "import matplotlib.pyplot as plt\n",
        "\n",
        "# Data\n",
        "categories = ['1', '2', '3', '4', '5', '6']\n",
        "observed_frequencies = [150,80,90,85,95,100]\n",
        "expected_frequencies = [100, 100, 100, 100, 100, 100]\n",
        "\n",
        "# Plotting\n",
        "plt.figure(figsize=(8, 5))\n",
        "plt.bar(categories, observed_frequencies, alpha=0.7, label='Observed Frequencies')\n",
        "plt.plot(categories, expected_frequencies, color='red', marker='D', linestyle='--', label='Expected Frequencies')\n",
        "plt.xlabel('Dice Roll Outcome')\n",
        "plt.ylabel('Frequency')\n",
        "plt.title('Goodness of Fit - Dice Roll Frequencies')\n",
        "plt.legend()\n",
        "plt.show()\n"
      ],
      "metadata": {
        "id": "CX4_xHe85f-a"
      },
      "execution_count": null,
      "outputs": []
    },
    {
      "cell_type": "markdown",
      "source": [
        "+ Observed frequency (bar plot)"
      ],
      "metadata": {
        "id": "kxqpW0zf5oYw"
      }
    },
    {
      "cell_type": "code",
      "source": [
        "import numpy as np\n",
        "\n",
        "# Data\n",
        "categories = ['Male', 'Female']\n",
        "tea = [300, 200]  # Frequencies for tea preference\n",
        "coffee = [200, 300]  # Frequencies for coffee preference\n",
        "\n",
        "# Plotting\n",
        "bar_width = 0.35\n",
        "index = np.arange(len(categories))\n",
        "\n",
        "plt.figure(figsize=(8, 5))\n",
        "plt.bar(index, tea, bar_width, alpha=0.7, label='Tea')\n",
        "plt.bar(index + bar_width, coffee, bar_width, alpha=0.7, label='Coffee')\n",
        "plt.xlabel('Gender')\n",
        "plt.ylabel('Frequency')\n",
        "plt.title('Independence Test - Beverage Preferences by Gender')\n",
        "plt.xticks(index + bar_width / 2, categories)\n",
        "plt.legend()\n",
        "plt.show()\n"
      ],
      "metadata": {
        "id": "WWwch30s5mNz"
      },
      "execution_count": null,
      "outputs": []
    },
    {
      "cell_type": "markdown",
      "source": [
        "+ P value on the figure"
      ],
      "metadata": {
        "id": "1tYTg6icGoUI"
      }
    },
    {
      "cell_type": "code",
      "source": [
        "import numpy as np\n",
        "\n",
        "# Data\n",
        "categories = ['Male', 'Female']\n",
        "tea = [300, 200]  # Frequencies for tea preference\n",
        "coffee = [200, 300]  # Frequencies for coffee preference\n",
        "\n",
        "# Plotting\n",
        "bar_width = 0.35\n",
        "index = np.arange(len(categories))\n",
        "\n",
        "plt.figure(figsize=(8, 5))\n",
        "plt.bar(index, tea, bar_width, alpha=0.7, label='Tea')\n",
        "plt.bar(index + bar_width, coffee, bar_width, alpha=0.7, label='Coffee')\n",
        "plt.xlabel('Gender')\n",
        "plt.ylabel('Frequency')\n",
        "plt.title('Independence Test - Beverage Preferences by Gender')\n",
        "plt.xticks(index + bar_width / 2, categories)\n",
        "plt.legend()\n",
        "\n",
        "# Calculate and display the p-value\n",
        "p_value = 0.0  # Replace with the actual p-value from your independence test\n",
        "plt.text(0.6, max(max(tea), max(coffee)), f'p = {p_value:.3f}', ha='center', fontsize=12, color='red')\n",
        "#p를 그냥 쓰고 싶을 때는 'p<0.001'로 수정\n",
        "\n",
        "plt.show()\n"
      ],
      "metadata": {
        "id": "X0WUMlNOFzvj"
      },
      "execution_count": null,
      "outputs": []
    },
    {
      "cell_type": "markdown",
      "source": [
        "+ Plot 3: Expected and Observed"
      ],
      "metadata": {
        "id": "DPjnOf2Sa47w"
      }
    },
    {
      "cell_type": "code",
      "source": [
        "import matplotlib.pyplot as plt\n",
        "import numpy as np\n",
        "\n",
        "# Observed Data\n",
        "categories = ['Male', 'Female']\n",
        "tea_observed = [300, 200]  # Observed frequencies for tea\n",
        "coffee_observed = [200, 300]  # Observed frequencies for coffee\n",
        "\n",
        "# Expected Data (assuming no difference between genders)\n",
        "total = np.sum(tea_observed + coffee_observed)\n",
        "tea_expected = [total / 4, total / 4]  # Evenly distributed\n",
        "coffee_expected = [total / 4, total / 4]  # Evenly distributed\n",
        "\n",
        "# Plotting\n",
        "bar_width = 0.35\n",
        "index = np.arange(len(categories))\n",
        "\n",
        "plt.figure(figsize=(10, 6))\n",
        "plt.bar(index, tea_observed, bar_width, alpha=0.7, label='Tea (Observed)')\n",
        "plt.bar(index, tea_expected, bar_width, alpha=0.3, color='blue', label='Tea (Expected)', hatch='//')\n",
        "plt.bar(index + bar_width, coffee_observed, bar_width, alpha=0.7, label='Coffee (Observed)')\n",
        "plt.bar(index + bar_width, coffee_expected, bar_width, alpha=0.3, color='orange', label='Coffee (Expected)', hatch='//')\n",
        "plt.xlabel('Gender')\n",
        "plt.ylabel('Frequency')\n",
        "plt.title('Comparison of Observed and Expected Frequencies by Beverage and Gender')\n",
        "plt.xticks(index + bar_width / 2, categories)\n",
        "plt.legend()\n",
        "\n",
        "# Calculate and display the p-value\n",
        "p_value = 0.0  # Replace with the actual p-value from your independence test\n",
        "y_center = np.mean(plt.ylim())  # Calculate the y-coordinate for the center of the plot's y-axis range\n",
        "plt.text(0.7, y_center, f'p = {p_value:.3f}', va='center', ha='center', fontsize=12, color='red')\n",
        "\n",
        "plt.show()\n"
      ],
      "metadata": {
        "id": "5bYNhkX26HMu"
      },
      "execution_count": null,
      "outputs": []
    },
    {
      "cell_type": "markdown",
      "source": [
        "## Association plot\n",
        "\n",
        "+ An association plot, often used in the context of a chi-squared test, is a visual tool designed to highlight the differences between observed and expected frequencies of categorical data.\n",
        "+ This plot helps to illustrate the strength and direction of associations within a contingency table, making it easier to interpret the results of a chi-squared test for independence."
      ],
      "metadata": {
        "id": "OFRCDBxk9D5l"
      }
    },
    {
      "cell_type": "code",
      "source": [
        "!!pip install seaborn matplotlib"
      ],
      "metadata": {
        "id": "SnJ2R2mG82rZ"
      },
      "execution_count": null,
      "outputs": []
    },
    {
      "cell_type": "code",
      "source": [
        "import seaborn as sns\n",
        "import matplotlib.pyplot as plt\n",
        "import pandas as pd\n",
        "\n",
        "# Your Data\n",
        "categories = ['Male', 'Female']\n",
        "tea_observed = [300, 200]  # Observed frequencies for tea\n",
        "coffee_observed = [200, 300]  # Observed frequencies for coffee\n",
        "\n",
        "# Creating DataFrame\n",
        "data = pd.DataFrame({'Tea': tea_observed, 'Coffee': coffee_observed}, index=categories)\n",
        "\n",
        "# Create a pivot table for the assoc plot\n",
        "pivot_table = data.pivot_table(columns=categories)\n",
        "\n",
        "# Create the assoc plot\n",
        "sns.heatmap(pivot_table, annot=True, cmap=\"YlGnBu\")\n",
        "\n",
        "# Adding labels and title\n",
        "plt.title('Association Plot - Beverage Preferences by Gender')\n",
        "plt.ylabel('Beverage')\n",
        "plt.xlabel('Gender')\n",
        "plt.show()\n"
      ],
      "metadata": {
        "id": "tspNhHBy9HkY"
      },
      "execution_count": null,
      "outputs": []
    },
    {
      "cell_type": "code",
      "source": [
        "import matplotlib.pyplot as plt\n",
        "import pandas as pd\n",
        "import numpy as np\n",
        "\n",
        "# Your data\n",
        "categories = ['Male', 'Female']\n",
        "tea_observed = [300, 200]  # Observed frequencies for tea\n",
        "coffee_observed = [200, 300]  # Observed frequencies for coffee\n",
        "\n",
        "# Calculate the expected values assuming even distribution\n",
        "total = sum(tea_observed) + sum(coffee_observed)\n",
        "expected = total / (2 * len(categories))  # Evenly distributed among all categories\n",
        "\n",
        "# Calculate differences from expected values\n",
        "tea_diff = np.array(tea_observed) - expected\n",
        "coffee_diff = np.array(coffee_observed) - expected\n",
        "\n",
        "# Creating a DataFrame for plotting\n",
        "data = pd.DataFrame({'Tea': tea_diff, 'Coffee': coffee_diff}, index=categories)\n",
        "\n",
        "# Plotting\n",
        "data.plot(kind='bar', figsize=(10, 6))\n",
        "\n",
        "# Customizing the plot\n",
        "plt.axhline(y=0, color='k', linestyle='-')  # Adds a horizontal line at y=0\n",
        "plt.ylabel('Difference from Expected')\n",
        "plt.title('Difference in Beverage Preferences from Expected by Gender')\n",
        "plt.show()\n",
        "\n",
        "#기대되는 것보다 부족하다/많다"
      ],
      "metadata": {
        "id": "OKs4cEaY9Z59"
      },
      "execution_count": null,
      "outputs": []
    },
    {
      "cell_type": "markdown",
      "source": [
        "### The next step is often to examine which specific categories (or outcomes) are contributing most to this difference.(차이에 기여하는 셀이 어떤 것이냐)\n",
        "\n",
        "1. Examining the Residuals(잔차)\n",
        "\n",
        "Residuals in this context are the differences between the observed and expected frequencies. They can give you an idea of how each category contributes to the overall chi-squared statistic. The calculation is simple:\n",
        "\n",
        "Residual=Observed Frequency−Expected Frequency\n",
        "\n",
        "For a more standardized measure, you can calculate the standardized residuals:\n",
        "\n",
        "$$\n",
        "\\text{Standardized Residual} = \\frac{\\text{Observed Frequency} - \\text{Expected Frequency}}{\\sqrt{\\text{Expected Frequency}}}\n",
        "$$\n",
        "\n",
        "\n",
        "A larger absolute value of the standardized residual indicates a greater contribution to the overall chi-squared statistic."
      ],
      "metadata": {
        "id": "RL9NeI4OBqyT"
      }
    },
    {
      "cell_type": "markdown",
      "source": [
        "Data#3\n",
        "\n",
        "|Face|1|2|3|4|5|6|\n",
        "|--|--|--|--|--|--|--|\n",
        "|Observed|150|80|90|85|95|100|\n",
        "|Expected|100|100|100|100|100|100|"
      ],
      "metadata": {
        "id": "X2PxLX4xcbMr"
      }
    },
    {
      "cell_type": "code",
      "source": [
        "import pandas as pd\n",
        "import numpy as np\n",
        "\n",
        "# Example Data\n",
        "observed_frequencies = np.array([150, 80, 90, 85, 95, 100])\n",
        "expected_frequencies = np.array([100, 100, 100, 100, 100, 100])\n",
        "\n",
        "# Calculating Residuals\n",
        "residuals = observed_frequencies - expected_frequencies\n",
        "\n",
        "# Calculating Standardized Residuals\n",
        "standardized_residuals = residuals / np.sqrt(expected_frequencies)\n",
        "\n",
        "# Creating a DataFrame for Display\n",
        "residuals_table = pd.DataFrame({\n",
        "    'Category': ['1', '2', '3', '4', '5', '6'],\n",
        "    'Observed': observed_frequencies,\n",
        "    'Expected': expected_frequencies,\n",
        "    'Residual': residuals,\n",
        "    'Standardized Residual': standardized_residuals\n",
        "})\n",
        "\n",
        "print(residuals_table)\n"
      ],
      "metadata": {
        "id": "pATz7Sf1BuyM"
      },
      "execution_count": null,
      "outputs": []
    },
    {
      "cell_type": "markdown",
      "source": [
        "+ Rule of Thumb: Standardized residuals **greater than 2 or less than -2 are typically considered indicators of significant deviation** from expected values. This corresponds to **about a 95% confidence level**, assuming the residuals are approximately normally distributed.\n",
        "+ More Conservative Approach: Some statisticians use a stricter cutoff, such as 2.5 or 3, to reduce the chance of Type I errors (false positives).\n",
        "+ 1은 기대치와 유의미한 차이를 보인다, 2는 marginal한 차이를 보인다."
      ],
      "metadata": {
        "id": "-kPsC_2edct4"
      }
    },
    {
      "cell_type": "markdown",
      "source": [
        "### Residual plot"
      ],
      "metadata": {
        "id": "jvlSDY9SC7we"
      }
    },
    {
      "cell_type": "code",
      "source": [
        "import pandas as pd\n",
        "import numpy as np\n",
        "import matplotlib.pyplot as plt\n",
        "\n",
        "# Example Data\n",
        "observed_frequencies = np.array([150, 80, 90, 85, 95, 100])\n",
        "expected_frequencies = np.array([100, 100, 100, 100, 100, 100])\n",
        "\n",
        "# Calculating Residuals\n",
        "residuals = observed_frequencies - expected_frequencies\n",
        "\n",
        "# Calculating Standardized Residuals\n",
        "standardized_residuals = residuals / np.sqrt(expected_frequencies)\n",
        "\n",
        "# Creating a DataFrame for Display\n",
        "residuals_table = pd.DataFrame({\n",
        "    'Category': ['1', '2', '3', '4', '5', '6'],\n",
        "    'Standardized Residual': standardized_residuals\n",
        "})\n",
        "\n",
        "# Creating a bar plot\n",
        "plt.figure(figsize=(10, 6))\n",
        "plt.bar(residuals_table['Category'], residuals_table['Standardized Residual'], color='blue')\n",
        "plt.xlabel('Category')\n",
        "plt.ylabel('Standardized Residual')\n",
        "plt.title('Standardized Residuals by Category')\n",
        "plt.axhline(y=0, color='black', linestyle='--', linewidth=0.8)  # Add a horizontal line at y=0 for reference\n",
        "plt.show()\n"
      ],
      "metadata": {
        "id": "Ka61rjrwBpcx"
      },
      "execution_count": null,
      "outputs": []
    },
    {
      "cell_type": "code",
      "source": [
        "import pandas as pd\n",
        "import numpy as np\n",
        "import matplotlib.pyplot as plt\n",
        "\n",
        "# Example Data\n",
        "observed_frequencies = np.array([150, 80, 90, 85, 95, 100])\n",
        "expected_frequencies = np.array([100, 100, 100, 100, 100, 100])\n",
        "\n",
        "# Calculating Residuals\n",
        "residuals = observed_frequencies - expected_frequencies\n",
        "\n",
        "# Calculating Standardized Residuals\n",
        "standardized_residuals = residuals / np.sqrt(expected_frequencies)\n",
        "\n",
        "# Creating a DataFrame for Display\n",
        "residuals_table = pd.DataFrame({\n",
        "    'Category': ['1', '2', '3', '4', '5', '6'],\n",
        "    'Standardized Residual': standardized_residuals\n",
        "})\n",
        "\n",
        "# Assign colors based on the sign of the standardized residuals\n",
        "colors = ['red' if x < 0 else 'blue' for x in residuals_table['Standardized Residual']]\n",
        "\n",
        "# Creating a bar plot\n",
        "plt.figure(figsize=(10, 6))\n",
        "plt.bar(residuals_table['Category'], residuals_table['Standardized Residual'], color=colors)\n",
        "plt.xlabel('Category')\n",
        "plt.ylabel('Standardized Residual')\n",
        "plt.title('Standardized Residuals by Category')\n",
        "plt.axhline(y=0, color='black', linestyle='--', linewidth=0.8)  # Add a horizontal line at y=0 for reference\n",
        "plt.show()\n"
      ],
      "metadata": {
        "id": "i0RRYbAqeHAK"
      },
      "execution_count": null,
      "outputs": []
    },
    {
      "cell_type": "markdown",
      "source": [
        "## Contribution plot:\n",
        "\n",
        "Contributions are calculated as follows for each category:\n",
        "제곱값으로 계산\n",
        "\n",
        "**Contribution = [(Standardized Residuals)^2]/Expected Frequency**"
      ],
      "metadata": {
        "id": "upNNt66TDLg_"
      }
    },
    {
      "cell_type": "code",
      "source": [
        "import pandas as pd\n",
        "import numpy as np\n",
        "import matplotlib.pyplot as plt\n",
        "\n",
        "# Example Data\n",
        "observed_frequencies = np.array([150, 80, 90, 85, 95, 100])\n",
        "expected_frequencies = np.array([100, 100, 100, 100, 100, 100])\n",
        "\n",
        "# Calculating Residuals\n",
        "residuals = observed_frequencies - expected_frequencies\n",
        "\n",
        "# Calculating Standardized Residuals\n",
        "standardized_residuals = residuals / np.sqrt(expected_frequencies)\n",
        "\n",
        "# Calculating Contributions\n",
        "contributions = (standardized_residuals ** 2) / expected_frequencies\n",
        "\n",
        "# Creating a DataFrame for Display\n",
        "contributions_table = pd.DataFrame({\n",
        "    'Category': ['1', '2', '3', '4', '5', '6'],\n",
        "    'Contribution': contributions\n",
        "})\n",
        "\n",
        "# Creating a bar plot for contributions\n",
        "plt.figure(figsize=(10, 6))\n",
        "plt.bar(contributions_table['Category'], contributions_table['Contribution'], color='green')\n",
        "plt.xlabel('Category')\n",
        "plt.ylabel('Contribution')\n",
        "plt.title('Contributions to Chi-Squared Statistic by Category')\n",
        "plt.show()\n"
      ],
      "metadata": {
        "id": "vhSzSR11DKm_"
      },
      "execution_count": null,
      "outputs": []
    },
    {
      "cell_type": "markdown",
      "source": [
        "---\n",
        "# The End"
      ],
      "metadata": {
        "id": "wJGjDe5fBnT1"
      }
    }
  ]
}