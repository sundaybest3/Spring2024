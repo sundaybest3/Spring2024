{
  "nbformat": 4,
  "nbformat_minor": 0,
  "metadata": {
    "colab": {
      "private_outputs": true,
      "provenance": [],
      "include_colab_link": true
    },
    "kernelspec": {
      "name": "python3",
      "display_name": "Python 3"
    },
    "language_info": {
      "name": "python"
    }
  },
  "cells": [
    {
      "cell_type": "markdown",
      "metadata": {
        "id": "view-in-github",
        "colab_type": "text"
      },
      "source": [
        "<a href=\"https://colab.research.google.com/github/sundaybest3/Spring2024/blob/main/Seminar/Seminar01C.ipynb\" target=\"_parent\"><img src=\"https://colab.research.google.com/assets/colab-badge.svg\" alt=\"Open In Colab\"/></a>"
      ]
    },
    {
      "cell_type": "markdown",
      "source": [
        "##😘 **2.3 Real data for practice**"
      ],
      "metadata": {
        "id": "9YO-WyLwDe0G"
      }
    },
    {
      "cell_type": "markdown",
      "source": [
        "* import packages: this is not a complete list, so you need to install and/or import packages when additional packages are used in later codes.\n",
        "* Instruction: for each task, datasets are given. You can run the code and get the data.\n",
        "* Follow 💙 for tasks to do"
      ],
      "metadata": {
        "id": "O6GkmJjsqrPV"
      }
    },
    {
      "cell_type": "code",
      "source": [
        "import numpy as np\n",
        "import pandas as pd\n",
        "from scipy import stats\n",
        "import matplotlib.pyplot as plt"
      ],
      "metadata": {
        "id": "wJy_4auKqeUe"
      },
      "execution_count": null,
      "outputs": []
    },
    {
      "cell_type": "markdown",
      "source": [
        "### 1. Histogram, Density Graph, Normality Test"
      ],
      "metadata": {
        "id": "v5krM29RoJGK"
      }
    },
    {
      "cell_type": "code",
      "execution_count": null,
      "metadata": {
        "id": "g_CbuagVCI4H"
      },
      "outputs": [],
      "source": [
        "import numpy as np\n",
        "\n",
        "# Generate normally distributed heights of 500 individuals\n",
        "heights = np.random.normal(170, 10, 500)  # mean=170cm, std=10cm\n",
        "heights = np.round(heights) # list\n",
        "\n",
        "data = heights\n",
        "print(data)\n"
      ]
    },
    {
      "cell_type": "markdown",
      "source": [
        "### 💙 With the given data, generate histogram and density graph, and conduct a normality test"
      ],
      "metadata": {
        "id": "vA9M2aWj-paJ"
      }
    },
    {
      "cell_type": "code",
      "source": [
        "# To Create Histogram Only\n",
        "plt.hist(data, bins=10, edgecolor='k')\n",
        "#bins는 간격, 높으면 촘촘 낮으면 듬성\n",
        "#color=\"색깔\", edgecolor=  등으로 색 바꿀 수 있어.\n",
        "# Save the plot to a file (e.g., 'box_plot.png')\n",
        "plt.savefig('histogram.png', dpi=300)  # You can change the filename and format\n",
        "\n",
        "\n"
      ],
      "metadata": {
        "id": "7XuKE2sh--KO"
      },
      "execution_count": null,
      "outputs": []
    },
    {
      "cell_type": "code",
      "source": [
        "# To create Histogram with Density Line\n",
        "\n",
        "from scipy.stats import norm\n",
        "\n",
        "# Plot histogram for data with density instead of frequency\n",
        "plt.hist(data, bins=10, edgecolor='k', density=True, color=\"green\")\n",
        "\n",
        "plt.xlabel('Values')\n",
        "plt.ylabel('Density')\n",
        "plt.title('Histogram with Density Line')\n",
        "\n",
        "# Calculate parameters for the density line (mean and standard deviation) for data\n",
        "mean = np.mean(data)\n",
        "std_dev = np.std(data)\n",
        "\n",
        "# Generate data points for the density line\n",
        "x = np.linspace(min(data), max(data), 100)\n",
        "density = norm.pdf(x, mean, std_dev)\n",
        "\n",
        "# Plot the density line\n",
        "plt.plot(x, density, label='Density Line', color=\"blue\")\n",
        "\n",
        "# Display legend\n",
        "plt.legend()\n",
        "\n",
        "# Show the plot\n",
        "plt.show()\n"
      ],
      "metadata": {
        "id": "u_TYcddQZWA7"
      },
      "execution_count": null,
      "outputs": []
    },
    {
      "cell_type": "code",
      "source": [
        "# Perform the Shapiro-Wilk normality test\n",
        "statistic, p_value = stats.shapiro(data)\n",
        "\n",
        "# Set the significance level (alpha)\n",
        "alpha = 0.05\n",
        "\n",
        "# Print the test result\n",
        "print(\"Shapiro-Wilk Test Result:\")\n",
        "print(f\"Statistic: {statistic}\")\n",
        "print(f\"P-value: {p_value}\")"
      ],
      "metadata": {
        "id": "-j67UqGrZtWX"
      },
      "execution_count": null,
      "outputs": []
    },
    {
      "cell_type": "markdown",
      "source": [
        "### 2. Box Plot"
      ],
      "metadata": {
        "id": "kovLqFvgoQKs"
      }
    },
    {
      "cell_type": "code",
      "source": [
        "import numpy as np\n",
        "\n",
        "# Exam scores in 4 different subjects for 50 students\n",
        "scores_math = np.random.randint(50, 100, 50)\n",
        "scores_science = np.random.randint(55, 100, 50)\n",
        "scores_history = np.random.randint(40, 100, 50)\n",
        "scores_english = np.random.randint(60, 100, 50)\n",
        "\n",
        "\n",
        "df = pd.DataFrame({              # Dictionary data\n",
        "    'Math': scores_math,\n",
        "    'Science': scores_science,\n",
        "    'History': scores_history,\n",
        "    'English': scores_english\n",
        "})\n",
        "\n",
        "# Display the DataFrame\n",
        "print(df)"
      ],
      "metadata": {
        "id": "eL1kO-uSoSSV"
      },
      "execution_count": null,
      "outputs": []
    },
    {
      "cell_type": "markdown",
      "source": [
        "### 💙 Generate box plots for each subject, and all together for comparison"
      ],
      "metadata": {
        "id": "ay3qj-i4_nYc"
      }
    },
    {
      "cell_type": "code",
      "source": [
        "# Create a box plot for math\n",
        "plt.boxplot(scores_math)\n",
        "plt.xlabel('Math')\n",
        "plt.ylabel('Values')\n",
        "plt.title('Box Plot of Math Scores')\n",
        "plt.show()"
      ],
      "metadata": {
        "id": "zyw1RDNi_w6Q"
      },
      "execution_count": null,
      "outputs": []
    },
    {
      "cell_type": "code",
      "source": [
        "# Create a box plot for Science\n",
        "plt.boxplot(scores_science)\n",
        "plt.xlabel('Science')\n",
        "plt.ylabel('Values')\n",
        "plt.title('Box Plot of Science Scores')\n",
        "plt.show()"
      ],
      "metadata": {
        "id": "cr8vQrPuadSQ"
      },
      "execution_count": null,
      "outputs": []
    },
    {
      "cell_type": "code",
      "source": [
        "# Create a box plot for history\n",
        "plt.boxplot(scores_history)\n",
        "plt.xlabel('History')\n",
        "plt.ylabel('Values')\n",
        "plt.title('Box Plot of History Scores')\n",
        "plt.show()"
      ],
      "metadata": {
        "id": "J1RoJdGAa0iW"
      },
      "execution_count": null,
      "outputs": []
    },
    {
      "cell_type": "code",
      "source": [
        "# Create a box plot for English Scores\n",
        "plt.boxplot(scores_english)\n",
        "plt.xlabel('English')\n",
        "plt.ylabel('Values')\n",
        "plt.title('Box Plot of English Scores')\n",
        "plt.show()"
      ],
      "metadata": {
        "id": "-TKFU8mFbMTw"
      },
      "execution_count": null,
      "outputs": []
    },
    {
      "cell_type": "code",
      "source": [
        "# Create a box plot altogether\n",
        "plt.boxplot(df)\n",
        "plt.xlabel('Scores')\n",
        "plt.ylabel('Values')\n",
        "plt.title('Box Plot of Scores')\n",
        "plt.show()"
      ],
      "metadata": {
        "id": "LlgbdTbXbW0H"
      },
      "execution_count": null,
      "outputs": []
    },
    {
      "cell_type": "markdown",
      "source": [
        "### 3. Scatter Plot"
      ],
      "metadata": {
        "id": "-8DkG4xWoUF3"
      }
    },
    {
      "cell_type": "code",
      "source": [
        "import numpy as np\n",
        "\n",
        "# Height and Weight of 100 individuals\n",
        "height = np.random.normal(170, 10, 100)  # Height in cm\n",
        "weight = height * 0.5 + np.random.normal(0, 5, 100)  # Weight in kg\n",
        "\n"
      ],
      "metadata": {
        "id": "Jy0SRMYeoYFk"
      },
      "execution_count": null,
      "outputs": []
    },
    {
      "cell_type": "markdown",
      "source": [
        "### 💙 With the given variables, generate a dataframe 'df' and generate a scatter plot for each."
      ],
      "metadata": {
        "id": "ed5Ez8XJ_yvr"
      }
    },
    {
      "cell_type": "markdown",
      "source": [
        "I don't understand how to generate a scatter plot for each."
      ],
      "metadata": {
        "id": "fdzimPhghOiA"
      }
    },
    {
      "cell_type": "code",
      "source": [
        "df = pd.DataFrame({              # Dictionary data\n",
        "    'height': height,\n",
        "    'weight': weight\n",
        "})\n",
        "\n",
        "print(df)"
      ],
      "metadata": {
        "id": "owk9WdI5_8Ae"
      },
      "execution_count": null,
      "outputs": []
    },
    {
      "cell_type": "markdown",
      "source": [
        "### 💙 With the given variables, generate a single scatter plot with x = height and y = weight."
      ],
      "metadata": {
        "id": "bfLqkGLG_8bv"
      }
    },
    {
      "cell_type": "code",
      "source": [
        "x = height\n",
        "y = weight\n",
        "\n",
        "# Create a scatter plot\n",
        "plt.scatter(x,y)\n",
        "#plt.scatter(x,y, marker='o', color='red', s=100, label='Data Points')  # Change marker, color, and size)\n",
        "plt.xlabel('Height')\n",
        "plt.ylabel('Weight')\n",
        "plt.title('Scatter Plot for Height and Weight')\n",
        "plt.grid(True)  # Add a grid (optional)\n",
        "\n",
        "# Set x-axis and y-axis limits (xlim and ylim)\n",
        "plt.xlim(130, 200)  # Set x-axis limits from 0 to 0\n",
        "plt.ylim(60, 100)  # Set y-axis limits from 0 to 0\n",
        "\n",
        "# Show the plot\n",
        "plt.show()"
      ],
      "metadata": {
        "id": "z7HdNIbzAIeL"
      },
      "execution_count": null,
      "outputs": []
    },
    {
      "cell_type": "markdown",
      "source": [
        "### 4. Bar Plot"
      ],
      "metadata": {
        "id": "fC3e2JkmoZMx"
      }
    },
    {
      "cell_type": "code",
      "source": [
        "import numpy as np\n",
        "\n",
        "# Average monthly sales data for a year\n",
        "months = ['Jan', 'Feb', 'Mar', 'Apr', 'May', 'Jun', 'Jul', 'Aug', 'Sep', 'Oct', 'Nov', 'Dec']\n",
        "sales = np.random.randint(1000, 5000, 12)  # Sales in units\n",
        "\n",
        "# Create a DataFrame with months as the index and sales as the column\n",
        "df1 = pd.DataFrame({\n",
        "    'Sales': sales\n",
        "}, index=months)\n",
        "\n",
        "# Display the DataFrame\n",
        "print(df1)"
      ],
      "metadata": {
        "id": "O81rsFq6obEq"
      },
      "execution_count": null,
      "outputs": []
    },
    {
      "cell_type": "markdown",
      "source": [
        "### 💙 Generate a bar plot by months"
      ],
      "metadata": {
        "id": "39o8w-jbSchC"
      }
    },
    {
      "cell_type": "code",
      "source": [
        "# Create a bar plot\n",
        "plt.bar(months, sales)\n",
        "plt.xlabel('Month')\n",
        "plt.ylabel('Number of Sales')\n",
        "plt.title('Sales by Months')\n",
        "#plt.grid(axis='x')  # Add a horizontal grid (axis = 'y) or 'both')\n",
        "\n",
        "# Show the plot\n",
        "plt.show()"
      ],
      "metadata": {
        "id": "4uGtS90eSmnX"
      },
      "execution_count": null,
      "outputs": []
    },
    {
      "cell_type": "markdown",
      "source": [
        "## 5. Pie Chart"
      ],
      "metadata": {
        "id": "wgDYbYt9ocBG"
      }
    },
    {
      "cell_type": "code",
      "source": [
        "import numpy as np\n",
        "\n",
        "# Market share of 5 companies\n",
        "companies = ['Company A', 'Company B', 'Company C', 'Company D', 'Company E']\n",
        "market_share = np.random.rand(5)\n",
        "market_share /= market_share.sum()\n",
        "\n",
        "# Create a DataFrame with companies as the index and market share as the column\n",
        "df2 = pd.DataFrame({\n",
        "    'Share': market_share\n",
        "}, index=companies)\n",
        "\n",
        "# Display the DataFrame\n",
        "print(df2)\n"
      ],
      "metadata": {
        "id": "b50SLEyQodEC"
      },
      "execution_count": null,
      "outputs": []
    },
    {
      "cell_type": "markdown",
      "source": [
        "### 💙 With the given data (df2), generate a pie chart of the company shares"
      ],
      "metadata": {
        "id": "rXkeizX9BGOj"
      }
    },
    {
      "cell_type": "markdown",
      "source": [
        "In the code below, 'autopct='%1.1f%%' string tells matplotlib to format the numbers as floating point values with one digit after the decimal point. The %% at the end is how you escape a percent sign in a format string, resulting in a literal '%' appearing after the number."
      ],
      "metadata": {
        "id": "1nH31XQYDhGO"
      }
    },
    {
      "cell_type": "code",
      "source": [
        "# Generate a pie chart\n",
        "plt.figure(figsize=(8, 8))  # Set the figure size as needed\n",
        "plt.pie(df2['Share'], labels=df2.index, autopct='%1.1f%%', shadow=True, startangle=90)\n",
        "plt.title('Market Share of Companies')\n",
        "plt.show()"
      ],
      "metadata": {
        "id": "MDvxoAnQBZ7L"
      },
      "execution_count": null,
      "outputs": []
    },
    {
      "cell_type": "markdown",
      "source": [
        "### 6. Line Graph"
      ],
      "metadata": {
        "id": "Qp3_KjQfoeTo"
      }
    },
    {
      "cell_type": "code",
      "source": [
        "import numpy as np\n",
        "\n",
        "# Yearly average temperature for 10 years\n",
        "years = np.arange(2010, 2020)\n",
        "temperature = np.random.uniform(14, 20, len(years))  # Temperature in Celsius\n"
      ],
      "metadata": {
        "id": "17Pgy_Uvog5_"
      },
      "execution_count": null,
      "outputs": []
    },
    {
      "cell_type": "markdown",
      "source": [
        "### 💙 With the variables in the above, generate df2 dataframe, and then generate a line graph"
      ],
      "metadata": {
        "id": "jQLIKfZ3DDlM"
      }
    },
    {
      "cell_type": "markdown",
      "source": [
        "Questions\n",
        "\n",
        "1.  Why is it all different the ways to generate a dataframe?\n",
        "\n"
      ],
      "metadata": {
        "id": "xSZP0j71kwgX"
      }
    },
    {
      "cell_type": "code",
      "source": [
        "# generate df2 dataframe\n",
        "df2 = pd.DataFrame([\n",
        "    {'year':years, 'temperature': temperature}\n",
        "])\n",
        "\n",
        "x = years\n",
        "y = temperature\n",
        "\n",
        "# Create a line graph\n",
        "plt.plot(x, y, marker='o', linestyle='-', color='blue', label='Line Plot')  # Customize markers, linestyle, and color\n",
        "plt.xlabel('Year')\n",
        "plt.ylabel('Temperature')\n",
        "plt.title('Temperature by Year')\n",
        "plt.grid(True)  # Add a grid (optional)\n",
        "\n",
        "# Show the plot\n",
        "plt.legend()  # Display the legend (optional)\n",
        "plt.show()\n"
      ],
      "metadata": {
        "id": "jAPJC9bKDQ5a"
      },
      "execution_count": null,
      "outputs": []
    },
    {
      "cell_type": "markdown",
      "source": [
        "### 7. Radar Chart"
      ],
      "metadata": {
        "id": "Z6-mYXekoh4p"
      }
    },
    {
      "cell_type": "code",
      "source": [
        "import numpy as np\n",
        "\n",
        "# Performance metrics for 3 employees in 5 areas\n",
        "labels=np.array(['Efficiency', 'Quality', 'Commitment', 'Responsibility', 'Teamwork'])\n",
        "performance_A = np.random.randint(1, 5, 5)\n",
        "performance_B = np.random.randint(1, 5, 5)\n",
        "performance_C = np.random.randint(1, 5, 5)\n",
        "\n",
        "# Create a DataFrame\n",
        "df3 = pd.DataFrame({\n",
        "    'Metric': labels,\n",
        "    'Employee A': performance_A,\n",
        "    'Employee B': performance_B,\n",
        "    'Employee C': performance_C\n",
        "})\n",
        "\n",
        "# Set 'Metric' as the index\n",
        "df3.set_index('Metric', inplace=True)\n",
        "\n",
        "# Display the DataFrame\n",
        "print(df3)"
      ],
      "metadata": {
        "id": "T_UGYfO_okMA"
      },
      "execution_count": null,
      "outputs": []
    },
    {
      "cell_type": "markdown",
      "source": [
        "### 💙 With the given data (df3), generate a radar chart"
      ],
      "metadata": {
        "id": "n1xw_aU_DJvy"
      }
    },
    {
      "cell_type": "code",
      "source": [
        "# Define the number of variables (metrics) and the angles for each axis\n",
        "num_vars = len(labels)\n",
        "angles = np.linspace(0, 2 * np.pi, num_vars, endpoint=False).tolist()\n",
        "\n",
        "# Make the plot close to a circle\n",
        "angles += angles[:1]  # Repeat the first value to close the circle\n",
        "\n",
        "# Create the radar chart\n",
        "plt.figure(figsize=(8, 8))\n",
        "ax = plt.subplot(111, polar=True)  # Create a polar plot\n",
        "\n",
        "# Plot each employee's performance\n",
        "for employee, color in zip(df3.columns, ['b', 'r', 'g']):\n",
        "    values = df3[employee].values.tolist()\n",
        "    values += values[:1]  # Close the loop\n",
        "    ax.plot(angles, values, label=employee, color=color)\n",
        "    ax.fill(angles, values, color, alpha=0.1)\n",
        "\n",
        "# Add labels and legend\n",
        "ax.set_xticks(angles[:-1])\n",
        "ax.set_xticklabels(labels)\n",
        "plt.title('Performance Metrics Radar Chart')\n",
        "plt.legend(loc='upper right')\n",
        "\n",
        "plt.show()"
      ],
      "metadata": {
        "id": "r_REBVy7DP-S"
      },
      "execution_count": null,
      "outputs": []
    },
    {
      "cell_type": "markdown",
      "source": [
        "### 8. Pareto Plot 누적빈도 그래프"
      ],
      "metadata": {
        "id": "EDjS20_gorJS"
      }
    },
    {
      "cell_type": "code",
      "source": [
        "import numpy as np\n",
        "\n",
        "# Complaint types and their frequencies\n",
        "complaint_types = ['Type A', 'Type B', 'Type C', 'Type D', 'Type E']\n",
        "frequencies = np.random.randint(10, 100, len(complaint_types))\n",
        "\n",
        "# Create a DataFrame\n",
        "df4 = pd.DataFrame({\n",
        "    'Complaint Type': complaint_types,\n",
        "    'Frequency': frequencies\n",
        "})\n",
        "\n",
        "# Set 'Complaint Type' as the index\n",
        "df4.set_index('Complaint Type', inplace=True)\n",
        "\n",
        "# Display the DataFrame\n",
        "print(df4)"
      ],
      "metadata": {
        "id": "dOlXKZriotKT"
      },
      "execution_count": null,
      "outputs": []
    },
    {
      "cell_type": "markdown",
      "source": [
        "### 💙 With the given data (df4), generate a Pareto plot"
      ],
      "metadata": {
        "id": "fHCCS72RDBJp"
      }
    },
    {
      "cell_type": "code",
      "source": [
        "# Sort the DataFrame by frequency in descending order\n",
        "df4_sorted = df4.sort_values(by='Frequency', ascending=True)\n",
        "\n",
        "# Calculate the cumulative percentage\n",
        "total = df4_sorted['Frequency'].sum()\n",
        "df4_sorted['Cumulative Percentage'] = (df4_sorted['Frequency'].cumsum() / total) * 100\n",
        "\n",
        "# Create the Pareto plot\n",
        "fig, ax1 = plt.subplots()\n",
        "\n",
        "# Plot the bar chart for frequencies\n",
        "ax1.bar(df4_sorted.index, df4_sorted['Frequency'], color='b', alpha=0.7, width=0.5)\n",
        "\n",
        "# Create a secondary y-axis for cumulative percentage\n",
        "ax2 = ax1.twinx()\n",
        "ax2.plot(df4_sorted.index, df4_sorted['Cumulative Percentage'], color='r', marker='o')\n",
        "\n",
        "# Set labels and titles\n",
        "ax1.set_xlabel('Complaint Type')\n",
        "ax1.set_ylabel('Frequency', color='b')\n",
        "ax2.set_ylabel('Cumulative Percentage (%)', color='r')\n",
        "plt.title('Pareto Plot')\n",
        "\n",
        "# Rotate x-axis labels for better readability\n",
        "plt.xticks(rotation=45, ha='right')\n",
        "\n",
        "# Show plot\n",
        "plt.show()"
      ],
      "metadata": {
        "id": "0UzrtorsDPJq"
      },
      "execution_count": null,
      "outputs": []
    },
    {
      "cell_type": "markdown",
      "source": [
        "#The END"
      ],
      "metadata": {
        "id": "woHB9-3uo3lD"
      }
    }
  ]
}