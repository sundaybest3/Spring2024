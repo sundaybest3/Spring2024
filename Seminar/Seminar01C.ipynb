{
  "nbformat": 4,
  "nbformat_minor": 0,
  "metadata": {
    "colab": {
      "private_outputs": true,
      "provenance": [],
      "include_colab_link": true
    },
    "kernelspec": {
      "name": "python3",
      "display_name": "Python 3"
    },
    "language_info": {
      "name": "python"
    }
  },
  "cells": [
    {
      "cell_type": "markdown",
      "metadata": {
        "id": "view-in-github",
        "colab_type": "text"
      },
      "source": [
        "<a href=\"https://colab.research.google.com/github/sundaybest3/Spring2024/blob/main/Seminar/Seminar01C.ipynb\" target=\"_parent\"><img src=\"https://colab.research.google.com/assets/colab-badge.svg\" alt=\"Open In Colab\"/></a>"
      ]
    },
    {
      "cell_type": "markdown",
      "source": [
        "##😘 **2.3 Real data for practice**"
      ],
      "metadata": {
        "id": "9YO-WyLwDe0G"
      }
    },
    {
      "cell_type": "markdown",
      "source": [
        "* import packages: this is not a complete list, so you need to install and/or import packages when additional packages are used in later codes."
      ],
      "metadata": {
        "id": "O6GkmJjsqrPV"
      }
    },
    {
      "cell_type": "code",
      "source": [
        "import numpy as np\n",
        "import pandas as pd\n",
        "from scipy import stats\n",
        "import matplotlib.pyplot as plt"
      ],
      "metadata": {
        "id": "wJy_4auKqeUe"
      },
      "execution_count": null,
      "outputs": []
    },
    {
      "cell_type": "markdown",
      "source": [
        "### 1. Histogram, Density Graph, Normality Test"
      ],
      "metadata": {
        "id": "v5krM29RoJGK"
      }
    },
    {
      "cell_type": "code",
      "execution_count": null,
      "metadata": {
        "id": "g_CbuagVCI4H"
      },
      "outputs": [],
      "source": [
        "import numpy as np\n",
        "\n",
        "# Generate normally distributed heights of 500 individuals\n",
        "heights = np.random.normal(170, 10, 500)\n",
        "mean = 170\n",
        "std_dev=10\n",
        "data1=np.random.normal(mean, std_dev, 100)\n",
        "\n",
        "print(data1)\n",
        "\n"
      ]
    },
    {
      "cell_type": "markdown",
      "source": [
        "### 2. Box Plot"
      ],
      "metadata": {
        "id": "kovLqFvgoQKs"
      }
    },
    {
      "cell_type": "code",
      "source": [
        "import numpy as np\n",
        "\n",
        "# Exam scores in 4 different subjects for 50 students\n",
        "scores_math = np.random.randint(50, 100, 50)\n",
        "scores_science = np.random.randint(55, 100, 50)\n",
        "scores_history = np.random.randint(40, 100, 50)\n",
        "scores_english = np.random.randint(60, 100, 50)\n",
        "\n",
        "plt.boxplot(scores_math)\n",
        "plt.xlabel('math')\n",
        "plt.ylabel('Values')\n",
        "plt.title('Box Plot of Math')\n",
        "plt.show()\n",
        "\n",
        "plt.boxplot(scores_science)\n",
        "plt.xlabel('science')\n",
        "plt.ylabel('Values')\n",
        "plt.title('Box Plot of science')\n",
        "plt.show()\n",
        "\n",
        "plt.boxplot(scores_history)\n",
        "plt.xlabel('history')\n",
        "plt.ylabel('Values')\n",
        "plt.title('Box Plot of History')\n",
        "plt.show()\n",
        "\n",
        "plt.boxplot(scores_english)\n",
        "plt.xlabel('English')\n",
        "plt.ylabel('Values')\n",
        "plt.title('Box Plot of English')\n",
        "plt.show()"
      ],
      "metadata": {
        "id": "eL1kO-uSoSSV"
      },
      "execution_count": null,
      "outputs": []
    },
    {
      "cell_type": "markdown",
      "source": [
        "### 3. Scatter Plot"
      ],
      "metadata": {
        "id": "-8DkG4xWoUF3"
      }
    },
    {
      "cell_type": "code",
      "source": [
        "import numpy as np\n",
        "\n",
        "# Height and Weight of 100 individuals\n",
        "height = np.random.normal(170, 10, 100)  # Height in cm\n",
        "weight = height * 0.5 + np.random.normal(0, 5, 100)  # Weight in kg\n",
        "x=height\n",
        "y=weight\n",
        "plt.scatter(x, y)\n",
        "plt.xlabel('height(cm)')\n",
        "plt.ylabel('weight(kg)')\n",
        "plt.title('Scatter Plot')\n",
        "plt.grid(True)  # Add a grid (optional)\n",
        "\n",
        "plt. show()"
      ],
      "metadata": {
        "id": "Jy0SRMYeoYFk"
      },
      "execution_count": null,
      "outputs": []
    },
    {
      "cell_type": "markdown",
      "source": [
        "### 4. Bar Plot"
      ],
      "metadata": {
        "id": "fC3e2JkmoZMx"
      }
    },
    {
      "cell_type": "code",
      "source": [
        "import numpy as np\n",
        "\n",
        "# Average monthly sales data for a year\n",
        "months = ['Jan', 'Feb', 'Mar', 'Apr', 'May', 'Jun', 'Jul', 'Aug', 'Sep', 'Oct', 'Nov', 'Dec']\n",
        "sales = np.random.randint(1000, 5000, 12)  # Sales in units\n",
        "\n",
        "plt.bar(months, sales)\n",
        "plt.xlabel('Months')\n",
        "plt.ylabel('Sales')\n",
        "plt.title('Average Monthly Sales Data')\n",
        "\n",
        "plt.show()"
      ],
      "metadata": {
        "id": "O81rsFq6obEq"
      },
      "execution_count": null,
      "outputs": []
    },
    {
      "cell_type": "markdown",
      "source": [
        "5. Pie Chart"
      ],
      "metadata": {
        "id": "wgDYbYt9ocBG"
      }
    },
    {
      "cell_type": "code",
      "source": [
        "import numpy as np\n",
        "\n",
        "# Market share of 5 companies\n",
        "companies = ['Company A', 'Company B', 'Company C', 'Company D', 'Company E']\n",
        "colors = ['blue','green', 'red', 'orange', 'yellow']\n",
        "market_share = np.random.rand(5)\n",
        "market_share /= market_share.sum()\n",
        "\n",
        "plt.pie(market_share, labels=companies, colors=colors, autopct='%1.1f%%', shadow=True, startangle=140)\n",
        "plt.axis('equal')  # Equal aspect ratio ensures that pie is drawn as a circle.\n",
        "plt.title('Market Share of 5 Companies')\n",
        "\n",
        "plt.show()"
      ],
      "metadata": {
        "id": "b50SLEyQodEC"
      },
      "execution_count": null,
      "outputs": []
    },
    {
      "cell_type": "markdown",
      "source": [
        "### 6. Line Graph"
      ],
      "metadata": {
        "id": "Qp3_KjQfoeTo"
      }
    },
    {
      "cell_type": "code",
      "source": [
        "import numpy as np\n",
        "\n",
        "# Yearly average temperature for 10 years\n",
        "years = np.arange(2010, 2020)\n",
        "temperature = np.random.uniform(14, 20, len(years))  # Temperature in Celsius\n",
        "\n",
        "plt.plot(years, temperature, marker='o', linestyle='-', color='blue', label='Line Plot')  # Customize markers, linestyle, and color\n",
        "plt.xlabel('Years')\n",
        "plt.ylabel('Temperature')\n",
        "plt.title('Line Graph')\n",
        "plt.grid(True)  # Add a grid (optional)\n",
        "\n",
        "plt.show()\n"
      ],
      "metadata": {
        "id": "17Pgy_Uvog5_"
      },
      "execution_count": null,
      "outputs": []
    },
    {
      "cell_type": "markdown",
      "source": [
        "### 7. Radar Chart"
      ],
      "metadata": {
        "id": "Z6-mYXekoh4p"
      }
    },
    {
      "cell_type": "code",
      "source": [
        "import numpy as np\n",
        "\n",
        "# Performance metrics for 3 employees in 5 areas\n",
        "labels=np.array(['Efficiency', 'Quality', 'Commitment', 'Responsibility', 'Teamwork'])\n",
        "performance_A = np.random.randint(1, 5, 5)\n",
        "performance_B = np.random.randint(1, 5, 5)\n",
        "performance_C = np.random.randint(1, 5, 5)\n",
        "\n",
        "# Example data for different categories\n",
        "categories = ['Efficiency', 'Quality', 'Commitment', 'Responsibility', 'Teamwork']\n",
        "\n",
        "# Data values for a single data point (e.g., an individual or group)\n",
        "data_values = [4, 3, 5, 2, 4]\n",
        "\n",
        "# Number of categories\n",
        "num_categories = len(categories)\n",
        "\n",
        "# Calculate the angle for each category\n",
        "angles = np.linspace(0, 2 * np.pi, num_categories, endpoint=False).tolist()\n",
        "angles += angles[:1]  # Close the circle\n",
        "\n",
        "# Create a radar chart\n",
        "plt.figure(figsize=(6, 6))\n",
        "ax = plt.subplot(111, polar=True)  # Specify polar projection\n",
        "\n",
        "# Repeat the first data point to create a closed loop\n",
        "data_values += data_values[:1]\n",
        "\n",
        "# Plot the data\n",
        "ax.fill(angles, data_values, 'b', alpha=0.1)  # Fill the area under the curve\n",
        "ax.set_thetagrids(np.degrees(angles[:-1]), labels=categories)  # Set category labels\n",
        "\n",
        "# Add a title\n",
        "plt.title('Performance Metrics')\n",
        "\n",
        "# Show the plot\n",
        "plt.show()\n"
      ],
      "metadata": {
        "id": "T_UGYfO_okMA"
      },
      "execution_count": null,
      "outputs": []
    },
    {
      "cell_type": "markdown",
      "source": [
        "### 8. Heatmap"
      ],
      "metadata": {
        "id": "OMwy9jXlolSU"
      }
    },
    {
      "cell_type": "code",
      "source": [
        "import numpy as np\n",
        "import seaborn as sns\n",
        "import matplotlib.pyplot as plt\n",
        "\n",
        "# Correlation matrix for 6 variables\n",
        "correlation_matrix = np.random.uniform(-1, 1, (6, 6))\n",
        "correlation_matrix = (correlation_matrix + correlation_matrix.T) / 2  # Making it symmetric\n",
        "np.fill_diagonal(correlation_matrix, 1)  # Fill diagonal with 1s for correlation\n",
        "\n",
        "data=pd.DataFrame(correlation_matrix)\n",
        "\n",
        "plt.figure(figsize=(10, 6))  # Set the figure size\n",
        "sns.heatmap(data, annot=True, fmt='d', cmap='coolwarm', cbar=True)\n",
        "\n",
        "plt.xlabel('Books')\n",
        "plt.ylabel('Word Frequency')\n",
        "plt.title('Word Frequency in Books')\n",
        "\n",
        "plt.show()\n"
      ],
      "metadata": {
        "id": "yWUWyYdxom_3"
      },
      "execution_count": null,
      "outputs": []
    },
    {
      "cell_type": "markdown",
      "source": [
        "### 9. Violin Plot"
      ],
      "metadata": {
        "id": "YcmwyerZoomI"
      }
    },
    {
      "cell_type": "code",
      "source": [
        "import numpy as np\n",
        "import seaborn as sns\n",
        "import matplotlib.pyplot as plt\n",
        "\n",
        "# Three different groups of data\n",
        "group1 = np.random.normal(20, 5, 100)\n",
        "group2 = np.random.normal(30, 10, 100)\n",
        "group3 = np.random.normal(40, 15, 100)\n",
        "\n",
        "# Create a violin plot\n",
        "plt.figure(figsize=(8, 6))  # Set the figure size\n",
        "sns.violinplot(x=\"group\", y=\"data\", data=data, inner=\"quart\")\n",
        "\n",
        "# Customize labels and title\n",
        "plt.xlabel('group1')\n",
        "plt.ylabel('data')\n",
        "plt.title('Violin Plot Example')\n",
        "\n",
        "# Show the violin plot\n",
        "plt.show()"
      ],
      "metadata": {
        "id": "4-Zpe8pQoqY9"
      },
      "execution_count": null,
      "outputs": []
    },
    {
      "cell_type": "markdown",
      "source": [
        "### 10. Pareto Plot"
      ],
      "metadata": {
        "id": "EDjS20_gorJS"
      }
    },
    {
      "cell_type": "code",
      "source": [
        "import numpy as np\n",
        "import seaborn as sns\n",
        "import matplotlib.pyplot as plt\n",
        "\n",
        "complaint_types = ['Type A', 'Type B', 'Type C', 'Type D', 'Type E']\n",
        "frequencies = np.random.randint(10, 100, len(complaint_types))\n",
        "\n",
        "data = {\n",
        "    'complaint_types': ['Type A', 'Type B', 'Type C', 'Type D', 'Type E'],\n",
        "    'frequencies' : np.random.randint(10, 100, len(complaint_types))\n",
        "}\n",
        "\n",
        "# Create a DataFrame\n",
        "df = pd.DataFrame(data)\n",
        "\n",
        "# Sort the DataFrame by 'Count' in ascending order\n",
        "df = df.sort_values(by='frequencies', ascending=True)\n",
        "\n",
        "# Calculate cumulative percentage\n",
        "df['Cumulative Percentage'] = (df['frequencies'].cumsum() / df['frequencies'].sum()) * 100\n",
        "\n",
        "# Specify bar colors\n",
        "bar_colors = ['blue', 'green', 'red', 'purple', 'orange']\n",
        "\n",
        "# Create a Pareto plot\n",
        "plt.figure(figsize=(10, 6))\n",
        "ax = plt.subplot()\n",
        "\n",
        "# Bar plot for 'Count' with custom colors\n",
        "ax.bar(df['complaint_types'], df['frequencies'], color=bar_colors, alpha=0.7, label='Frequencies')\n",
        "\n",
        "# Line plot for 'Cumulative Percentage'\n",
        "ax.plot(df['complaint_types'], df['Cumulative Percentage'], color='gray', marker='o', label='Cumulative Percentage')\n",
        "\n",
        "# Customize labels and title\n",
        "plt.xlabel('Complaint_types')\n",
        "plt.ylabel('Frequencies')\n",
        "plt.title('Pareto Plot (Ascending Order)')\n",
        "plt.xticks(rotation=45)  # Rotate x-axis labels for better readability\n",
        "\n",
        "# Show the Pareto plot with legend\n",
        "plt.legend()\n",
        "plt.show()\n"
      ],
      "metadata": {
        "id": "dOlXKZriotKT"
      },
      "execution_count": null,
      "outputs": []
    },
    {
      "cell_type": "markdown",
      "source": [
        "### 11. Stem-and-Leaf Plot"
      ],
      "metadata": {
        "id": "d1D4faQ6ot3f"
      }
    },
    {
      "cell_type": "code",
      "source": [
        "import numpy as np\n",
        "import matplotlib.pyplot as plt\n",
        "\n",
        "# Random integers representing some measurement\n",
        "measurements = np.random.randint(10, 99, 50)\n",
        "\n",
        "# Example data (a list of numerical values)\n",
        "data = measurements\n",
        "\n",
        "# Extract the leading digits (stems) and trailing digits (leaves)\n",
        "stems = [int(str(x)[:-1]) for x in data]\n",
        "leaves = [int(str(x)[-1]) for x in data]\n",
        "\n",
        "# Create a stem-and-leaf plot with orange color\n",
        "plt.figure(figsize=(8, 6))  # Set the figure size\n",
        "plt.stem(stems, leaves, markerfmt=\"o\", basefmt=\" \", use_line_collection=True, linefmt=\"orange\", bottom=-1, label='Data')\n",
        "\n",
        "# Customize labels and title\n",
        "plt.xlabel('Stems')\n",
        "plt.ylabel('Leaves')\n",
        "plt.title('Stem-and-Leaf Plot')\n",
        "\n",
        "# Show the plot\n",
        "plt.legend()\n",
        "plt.show()"
      ],
      "metadata": {
        "id": "4_oEK3-bowPe"
      },
      "execution_count": null,
      "outputs": []
    },
    {
      "cell_type": "markdown",
      "source": [
        "### 12. Time Series Plot"
      ],
      "metadata": {
        "id": "J_v866zLoxOv"
      }
    },
    {
      "cell_type": "code",
      "source": [
        "import numpy as np\n",
        "import pandas as pd\n",
        "import matplotlib.pyplot as plt\n",
        "\n",
        "# Daily stock prices for a month\n",
        "dates = pd.date_range(start='2023-01-01', end='2023-01-31')\n",
        "stock_prices = np.random.uniform(low=100, high=200, size=len(dates))\n",
        "\n",
        "# Step 1: Create a date range\n",
        "dates = pd.date_range(start='2023-01-01', periods=31, freq='D')\n",
        "\n",
        "# Step 2: Generate random data to simulate time series data\n",
        "data = np.random.randn(31).cumsum()\n",
        "\n",
        "# Step 3: Create a DataFrame\n",
        "df = pd.DataFrame(data, index=dates, columns=['Value'])\n",
        "\n",
        "# Step 4: Plot the time series data\n",
        "plt.figure(figsize=(31, 6))\n",
        "plt.plot(df.index, df['Value'], marker='o', color='blue')\n",
        "plt.title('Daily stock prices in January')\n",
        "plt.xlabel('Date')\n",
        "plt.ylabel('Price')\n",
        "plt.grid(True)\n",
        "plt.show()"
      ],
      "metadata": {
        "id": "3ZzI2LFrozU9"
      },
      "execution_count": null,
      "outputs": []
    },
    {
      "cell_type": "markdown",
      "source": [
        "### 13. Frequency Polygon"
      ],
      "metadata": {
        "id": "mTbKZp-Po1k5"
      }
    },
    {
      "cell_type": "code",
      "source": [
        "import numpy as np\n",
        "import matplotlib.pyplot as plt\n",
        "\n",
        "# Test scores for a group of students\n",
        "data = np.random.randint(0, 100, 100)\n",
        "\n",
        "counts, bin_edges = np.histogram(data, bins=10, density=True)\n",
        "\n",
        "# Step 3: Compute the bin centers (instead of edges)\n",
        "bin_centers = 0.5 * (bin_edges[:-1] + bin_edges[1:])\n",
        "\n",
        "# Step 4: Plot the frequency polygon\n",
        "plt.figure(figsize=(8, 6))\n",
        "plt.plot(bin_centers, counts, marker='o', linestyle='-')\n",
        "plt.title('Test scores')\n",
        "plt.xlabel('Value')\n",
        "plt.ylabel('Scores')\n",
        "plt.grid(True)\n",
        "plt.show()\n"
      ],
      "metadata": {
        "id": "uUmuS-Buo2kO"
      },
      "execution_count": null,
      "outputs": []
    },
    {
      "cell_type": "markdown",
      "source": [
        "#The END"
      ],
      "metadata": {
        "id": "woHB9-3uo3lD"
      }
    }
  ]
}