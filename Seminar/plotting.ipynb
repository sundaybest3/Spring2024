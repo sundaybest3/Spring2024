{
  "nbformat": 4,
  "nbformat_minor": 0,
  "metadata": {
    "colab": {
      "private_outputs": true,
      "provenance": [],
      "include_colab_link": true
    },
    "kernelspec": {
      "name": "python3",
      "display_name": "Python 3"
    },
    "language_info": {
      "name": "python"
    }
  },
  "cells": [
    {
      "cell_type": "markdown",
      "metadata": {
        "id": "view-in-github",
        "colab_type": "text"
      },
      "source": [
        "<a href=\"https://colab.research.google.com/github/sundaybest3/Spring2024/blob/main/Seminar/plotting.ipynb\" target=\"_parent\"><img src=\"https://colab.research.google.com/assets/colab-badge.svg\" alt=\"Open In Colab\"/></a>"
      ]
    },
    {
      "cell_type": "markdown",
      "source": [
        "# 🌱 **2. Descriptive statistics**\n",
        "\n",
        "1. What does 'descriptive statistics' refer to?\n",
        "2. **Key measures**\n",
        "3. **Visualize data**\n",
        "4. **Real data for practice**\n",
        "5. Applications and limitations\n"
      ],
      "metadata": {
        "id": "A0ZHpDZPCOmL"
      }
    },
    {
      "cell_type": "markdown",
      "source": [
        "## **2.2 Key measures**\n",
        "\n",
        "+ Mean: 평균\n",
        "+ Median: 중앙값(평균이 전체를 대표하지 못할 때)\n",
        "+ Mode: 최빈값\n",
        "+ Range: 범위\n",
        "+ Variance: 변량(차이가 작을수록 몰려있음)\n",
        "+ Standard deviation: 표준편차\n",
        "+ Interquartile(IQR): 1부터 100%까지 나열해서 4등분했을 때 중앙50%를 보여주는 값.(하위 25% 상위 25% 제외)"
      ],
      "metadata": {
        "id": "-i4I_LsdDXDB"
      }
    },
    {
      "cell_type": "markdown",
      "source": [
        "* 🔎 Python packages to use: {numpy}, {scipy}"
      ],
      "metadata": {
        "id": "v-tIQpPbNiYm"
      }
    },
    {
      "cell_type": "code",
      "source": [
        "import numpy as np\n",
        "from scipy import stats"
      ],
      "metadata": {
        "id": "fRn61KVeNNEQ"
      },
      "execution_count": null,
      "outputs": []
    },
    {
      "cell_type": "code",
      "source": [
        "#@markdown Generate a sample data set: **data** = 1~100\n",
        "\n",
        "data = list(range(1,101))\n",
        "str(data)"
      ],
      "metadata": {
        "id": "G3e3aJFuDjps"
      },
      "execution_count": null,
      "outputs": []
    },
    {
      "cell_type": "markdown",
      "source": [
        "* Mean = np.mean(data)\n",
        "\n",
        "Mean을 평균값으로 가지고 있어라"
      ],
      "metadata": {
        "id": "yLYevDpFNBxH"
      }
    },
    {
      "cell_type": "code",
      "source": [
        "mean = np.mean(data)\n",
        "print(mean)"
      ],
      "metadata": {
        "id": "0L_8xcGzNEi7"
      },
      "execution_count": null,
      "outputs": []
    },
    {
      "cell_type": "markdown",
      "source": [
        "* Median"
      ],
      "metadata": {
        "id": "q7Aw5mECNKif"
      }
    },
    {
      "cell_type": "code",
      "source": [
        "median = np.median(data)\n",
        "print(median)\n",
        "#정규분포를 이룰 때 mean과 median이 같다."
      ],
      "metadata": {
        "id": "7Vw99OFUNKA0"
      },
      "execution_count": null,
      "outputs": []
    },
    {
      "cell_type": "markdown",
      "source": [
        "* Mode"
      ],
      "metadata": {
        "id": "omEEgzoAN754"
      }
    },
    {
      "cell_type": "code",
      "source": [
        "mode = stats.mode(data)\n",
        "print(mode)"
      ],
      "metadata": {
        "id": "nsdl_g6nNTlR"
      },
      "execution_count": null,
      "outputs": []
    },
    {
      "cell_type": "code",
      "source": [
        "data_range = np.ptp(data) # Peak-to-peak (max - min)\n",
        "print(data_range)"
      ],
      "metadata": {
        "id": "axT8ursGOBO9"
      },
      "execution_count": null,
      "outputs": []
    },
    {
      "cell_type": "markdown",
      "source": [
        "* Variance"
      ],
      "metadata": {
        "id": "VH4UUqLBOLVt"
      }
    },
    {
      "cell_type": "markdown",
      "source": [
        "# Variance Calculation\n",
        "\n",
        "1. Calculate the Mean\n",
        "\n",
        "2. Calculate Each Deviation and Its Square\n",
        "\n",
        "3. Sum Up the Squared Deviations\n",
        "\n",
        "4. Calculate the Variance\n",
        "   - For **population variance** (\\( \\sigma^2 \\)), divide the total of the squared deviations by N (the number of data points).\n",
        "   - For **sample variance** (\\( s^2 \\)), divide by N-1 (to correct for bias in sample estimates)."
      ],
      "metadata": {
        "id": "ucs7HMKfAboF"
      }
    },
    {
      "cell_type": "markdown",
      "source": [
        "1 ~ 100\n",
        "50.5-1 + 50.5-2 + . . . . 다 합친거"
      ],
      "metadata": {
        "id": "nKa85EB0nCqs"
      }
    },
    {
      "cell_type": "code",
      "source": [
        "data_var = np.var(data)\n",
        "data_var"
      ],
      "metadata": {
        "id": "lLfoBBJYOIdk"
      },
      "execution_count": null,
      "outputs": []
    },
    {
      "cell_type": "markdown",
      "source": [
        "The standard deviation (STD) is a statistic that measures the dispersion or variability of a dataset relative to its mean. It is the square root of the variance."
      ],
      "metadata": {
        "id": "XBnm1UZbCeRU"
      }
    },
    {
      "cell_type": "code",
      "source": [
        "data_std = np.std(data) # np.sqrt(variance)\n",
        "data_var\n",
        "print(\"STD: \", data_std)\n",
        "print(\"Variance: \", data_var)"
      ],
      "metadata": {
        "id": "j5PqFQf4ORh5"
      },
      "execution_count": null,
      "outputs": []
    },
    {
      "cell_type": "markdown",
      "source": [
        "* The Interquartile Range (IQR) is a measure of statistical dispersion and is considered to be a more robust and reliable measure of spread than the range or standard deviation. The IQR specifically measures the spread of the middle 50% of a dataset.\n",
        "* Interquartile Range (IQR): 75% - 25%"
      ],
      "metadata": {
        "id": "9R2uNESyOigQ"
      }
    },
    {
      "cell_type": "code",
      "source": [
        "iqr = np.percentile(data, 75) - np.percentile(data, 25)\n",
        "print(iqr)\n"
      ],
      "metadata": {
        "id": "MHL1xVVXOldu"
      },
      "execution_count": null,
      "outputs": []
    },
    {
      "cell_type": "code",
      "source": [
        "#@markdown Boxplot to show IQR\n",
        "# Import necessary libraries\n",
        "import numpy as np\n",
        "import matplotlib.pyplot as plt\n",
        "\n",
        "# Assuming 'data' is your dataset, for example:\n",
        "\n",
        "# Calculate IQR\n",
        "iqr = np.percentile(data, 75) - np.percentile(data, 25)\n",
        "print(\"IQR:\", iqr)\n",
        "\n",
        "# Plotting the boxplot to show the IQR\n",
        "plt.boxplot(data)\n",
        "plt.title('Boxplot Showing IQR')\n",
        "plt.ylabel('Value')\n",
        "\n",
        "# Show grid lines for better readability\n",
        "# False로 지정하면 눈금이 안나와\n",
        "plt.grid(True)\n",
        "\n",
        "# Display the plot\n",
        "plt.show()\n"
      ],
      "metadata": {
        "cellView": "form",
        "id": "yC0Awz9yD5bL"
      },
      "execution_count": null,
      "outputs": []
    },
    {
      "cell_type": "markdown",
      "source": [
        "**Using data.describe()**\n",
        "\n",
        "**Note:** To use df.describe(), df should be a dataframe."
      ],
      "metadata": {
        "id": "z7T-Y4Z5O4Fl"
      }
    },
    {
      "cell_type": "code",
      "source": [
        "data = list(range(1,101))\n",
        "print(data)"
      ],
      "metadata": {
        "id": "SKuZazI4Gx67"
      },
      "execution_count": null,
      "outputs": []
    },
    {
      "cell_type": "code",
      "source": [
        "import pandas as pd\n",
        "\n",
        "df=pd.DataFrame({'Korean': data, 'Math': data}) # From  list to dataframe\n",
        "df"
      ],
      "metadata": {
        "id": "TQQ3tExyPStw"
      },
      "execution_count": null,
      "outputs": []
    },
    {
      "cell_type": "code",
      "source": [
        "# Descriptive statistics\n",
        "df.describe()"
      ],
      "metadata": {
        "id": "P0G9d3QrHJbb"
      },
      "execution_count": null,
      "outputs": []
    },
    {
      "cell_type": "markdown",
      "source": [
        "---\n",
        "## **2.3 Visualize data**\n",
        "\n",
        "1. Histogram\n",
        "  * Density graph\n",
        "  * Normality test\n",
        "\n",
        "2. Box plot (or Box-and-Whisker plot)\n",
        "3. Scatter plot\n",
        "4. Bar plot\n",
        "5. Kernel density plot\n",
        "6. Violin plot\n",
        "7. Pie chart\n",
        "8. Line graph\n",
        "9. Radar chart\n",
        "10. Heatmap\n",
        "11. Pareto plot\n",
        "12. Stem-and-leaf plot\n",
        "13. Time series plot\n",
        "14. Frequency polygon\n",
        "15. Dot plot\n",
        "\n",
        "Plot to save\n",
        "> **plt.savefig('filename.png', dpi=300)**\n",
        "\n",
        "> option: bbox_inches='tight' (reduce the margine)"
      ],
      "metadata": {
        "id": "AKZ15awMDbue"
      }
    },
    {
      "cell_type": "markdown",
      "source": [
        "### [1] Histogram"
      ],
      "metadata": {
        "id": "_Nro4Ee4Yagx"
      }
    },
    {
      "cell_type": "markdown",
      "source": [
        "* Data distribution: {matplotlib}"
      ],
      "metadata": {
        "id": "mqI_7n9FRBMI"
      }
    },
    {
      "cell_type": "code",
      "source": [
        "import matplotlib.pyplot as plt"
      ],
      "metadata": {
        "id": "almYKkfFDkdo"
      },
      "execution_count": null,
      "outputs": []
    },
    {
      "cell_type": "code",
      "source": [
        "# Generate a list of 100 observations from a normal distribution with mean 0 and standard deviation 1\n",
        "mean = 68\n",
        "std_dev = 12\n",
        "data1 = np.random.normal(mean, std_dev, 100)\n",
        "\n",
        "print(data1)"
      ],
      "metadata": {
        "id": "O0lNixTwtxWl"
      },
      "execution_count": null,
      "outputs": []
    },
    {
      "cell_type": "code",
      "source": [
        "import numpy as np\n",
        "\n",
        "# Generate a list of 98 observations from a normal distribution with mean 68 and standard deviation 12\n",
        "mean = 68\n",
        "std_dev = 12\n",
        "data2 = np.random.normal(mean, std_dev, 98)\n",
        "\n",
        "# Add two outliers manually\n",
        "outlier1 = 0  # An outlier greater than 3 standard deviations from the mean\n",
        "outlier2 = 25   # An outlier less than 3 standard deviations from the mean\n",
        "data2 = np.append(data2, [outlier1, outlier2])\n",
        "\n",
        "print(data2)\n"
      ],
      "metadata": {
        "id": "YLGNNyx4RaNN"
      },
      "execution_count": null,
      "outputs": []
    },
    {
      "cell_type": "markdown",
      "source": [
        "* Histogram"
      ],
      "metadata": {
        "id": "hAgovH_1Rwzm"
      }
    },
    {
      "cell_type": "markdown",
      "source": [
        "data1 or data2"
      ],
      "metadata": {
        "id": "Mjc2dikJuCAE"
      }
    },
    {
      "cell_type": "code",
      "source": [
        "plt.hist(data1, bins=10, edgecolor='k')\n",
        "#bins는 간격, 높으면 촘촘 낮으면 듬성\n",
        "#color=\"색깔\", edgecolor=  등으로 색 바꿀 수 있어.\n",
        "# Save the plot to a file (e.g., 'box_plot.png')\n",
        "plt.savefig('histogram.png', dpi=300)  # You can change the filename and format\n"
      ],
      "metadata": {
        "id": "bydDs_vjRIJu"
      },
      "execution_count": null,
      "outputs": []
    },
    {
      "cell_type": "code",
      "source": [
        "#@markdown Two histograms (data1, data2)\n",
        "# Create a figure and a set of subplots\n",
        "fig, axs = plt.subplots(1, 2, figsize=(10, 5)) # 1 row, 2 columns, and optional figure size\n",
        "\n",
        "# Plot histogram for data1 on the first subplot\n",
        "axs[0].hist(data1, bins=10, edgecolor='k')\n",
        "axs[0].set_title('Histogram of Data1')\n",
        "\n",
        "# Plot histogram for data2 on the second subplot\n",
        "axs[1].hist(data2, bins=10, edgecolor='k', color='pink')\n",
        "axs[1].set_title('Histogram of Data2')\n",
        "\n",
        "# Automatically adjust subplot params so that the subplot(s) fits in to the figure area.\n",
        "plt.tight_layout()\n",
        "\n",
        "# Save the plot to a file\n",
        "plt.savefig('histograms.png', dpi=300) # Saves the figure with the histograms side by side\n",
        "\n",
        "# Display the plot\n",
        "plt.show()\n"
      ],
      "metadata": {
        "id": "LgXQDVZyJGYj"
      },
      "execution_count": null,
      "outputs": []
    },
    {
      "cell_type": "markdown",
      "source": [
        "* **Density line** to the histogram\n",
        "\n",
        "+ Kernel Density Estimate (KDE) = density line"
      ],
      "metadata": {
        "id": "aOIuXUBrR1Cc"
      }
    },
    {
      "cell_type": "code",
      "source": [
        "import matplotlib.pyplot as plt\n",
        "import numpy as np\n",
        "from scipy.stats import norm\n",
        "\n",
        "# Plot histogram for data1 with density instead of frequency\n",
        "plt.hist(data1, bins=10, edgecolor='k', density=True, color=\"green\")\n",
        "\n",
        "plt.xlabel('Values')\n",
        "plt.ylabel('Density')\n",
        "plt.title('Histogram with Density Line')\n",
        "\n",
        "# Calculate parameters for the density line (mean and standard deviation) for data1\n",
        "mean = np.mean(data1)\n",
        "std_dev = np.std(data1)\n",
        "\n",
        "# Generate data points for the density line\n",
        "x = np.linspace(min(data1), max(data1), 100)\n",
        "density = norm.pdf(x, mean, std_dev)\n",
        "\n",
        "# Plot the density line\n",
        "plt.plot(x, density, label='Density Line', color=\"blue\")\n",
        "\n",
        "# Display legend\n",
        "plt.legend()\n",
        "\n",
        "# Show the plot\n",
        "plt.show()\n"
      ],
      "metadata": {
        "id": "Z-lX5SsER1VY"
      },
      "execution_count": null,
      "outputs": []
    },
    {
      "cell_type": "markdown",
      "source": [
        "* **Normality test:** Shapiro-Wilk normality test using {scipy}"
      ],
      "metadata": {
        "id": "ekVff3NFWmFu"
      }
    },
    {
      "cell_type": "code",
      "source": [
        "from scipy import stats\n",
        "\n",
        "# Perform the Shapiro-Wilk normality test\n",
        "statistic, p_value = stats.shapiro(data1)\n",
        "\n",
        "# Set the significance level (alpha)\n",
        "alpha = 0.05\n",
        "\n",
        "# Print the test result\n",
        "print(\"Shapiro-Wilk Test Result:\")\n",
        "print(f\"Statistic: {statistic}\")\n",
        "print(f\"P-value: {p_value}\")"
      ],
      "metadata": {
        "id": "OHFM1FCDW88h"
      },
      "execution_count": null,
      "outputs": []
    },
    {
      "cell_type": "code",
      "source": [
        "from scipy import stats\n",
        "\n",
        "# Perform the Shapiro-Wilk normality test\n",
        "statistic, p_value = stats.shapiro(data2)\n",
        "\n",
        "# Set the significance level (alpha)\n",
        "alpha = 0.05\n",
        "\n",
        "# Print the test result-p값을 보니 평균이 전체값을 대표하지 않음\n",
        "print(\"Shapiro-Wilk Test Result:\")\n",
        "print(f\"Statistic: {statistic}\")\n",
        "print(f\"P-value: {p_value}\")"
      ],
      "metadata": {
        "id": "_B0by85juMBU"
      },
      "execution_count": null,
      "outputs": []
    },
    {
      "cell_type": "markdown",
      "source": [
        "### [2] Box plot"
      ],
      "metadata": {
        "id": "fV2GX89pYent"
      }
    },
    {
      "cell_type": "code",
      "source": [
        "# Create a box plot\n",
        "plt.boxplot(data1)\n",
        "plt.xlabel('Data1')\n",
        "plt.ylabel('Values')\n",
        "plt.title('Box Plot of Data1')\n",
        "plt.show()"
      ],
      "metadata": {
        "id": "1khe8dwaNb_e"
      },
      "execution_count": null,
      "outputs": []
    },
    {
      "cell_type": "code",
      "source": [
        "import matplotlib.pyplot as plt\n",
        "\n",
        "# Create a box plot\n",
        "plt.boxplot(data2)\n",
        "plt.xlabel('Data2')\n",
        "plt.ylabel('Values')\n",
        "plt.title('Box Plot of Data2')\n",
        "plt.show()"
      ],
      "metadata": {
        "id": "wKzefMbqYmjI"
      },
      "execution_count": null,
      "outputs": []
    },
    {
      "cell_type": "markdown",
      "source": [
        "### [3] Kernel density plot"
      ],
      "metadata": {
        "id": "5WFnKhGEeYn4"
      }
    },
    {
      "cell_type": "code",
      "source": [
        "import numpy as np\n",
        "import matplotlib.pyplot as plt\n",
        "import seaborn as sns\n",
        "\n",
        "# Generating random data\n",
        "data = np.random.normal(size=1000)\n",
        "\n",
        "# Creating a figure with two subplots\n",
        "fig, axs = plt.subplots(2, figsize=(8, 10))\n",
        "\n",
        "# Histogram\n",
        "axs[0].hist(data, bins=30, alpha=0.7, color='blue')\n",
        "axs[0].set_title('Histogram')\n",
        "\n",
        "# Kernel Density Estimate plot-중간값을 이어준것이다. 확률을 보여주는 것\n",
        "sns.kdeplot(data, ax=axs[1], color='green')\n",
        "axs[1].set_title('Kernel Density Estimate')\n",
        "\n",
        "plt.show()\n"
      ],
      "metadata": {
        "id": "C-dwAqoTedQc"
      },
      "execution_count": null,
      "outputs": []
    },
    {
      "cell_type": "markdown",
      "source": [
        "### [4] Violin plot\n",
        "실제 빈도분포"
      ],
      "metadata": {
        "id": "1wWhI9SFfKzp"
      }
    },
    {
      "cell_type": "code",
      "source": [
        "import seaborn as sns\n",
        "import matplotlib.pyplot as plt\n",
        "\n",
        "# Example data (from seaborn)\n",
        "data = sns.load_dataset(\"tips\")\n",
        "\n",
        "# Create a violin plot\n",
        "plt.figure(figsize=(8, 6))  # Set the figure size\n",
        "sns.violinplot(x=\"day\", y=\"total_bill\", data=data, inner=\"quart\")\n",
        "\n",
        "# Customize labels and title\n",
        "plt.xlabel('Day of the Week')\n",
        "plt.ylabel('Total Bill Amount')\n",
        "plt.title('Violin Plot Example')\n",
        "\n",
        "# Show the violin plot\n",
        "plt.show()\n"
      ],
      "metadata": {
        "id": "mkIs_u2JfPss"
      },
      "execution_count": null,
      "outputs": []
    },
    {
      "cell_type": "markdown",
      "source": [
        "### [5] Scatter plot: this requires two data sets"
      ],
      "metadata": {
        "id": "vKhzfOkqY5Ya"
      }
    },
    {
      "cell_type": "code",
      "source": [
        "import matplotlib.pyplot as plt\n",
        "\n",
        "# Example data\n",
        "x = [1, 2, 3, 4, 5]\n",
        "y = [10, 12, 8, 15, 9]\n",
        "\n",
        "# Create a scatter plot\n",
        "plt.scatter(x, y)\n",
        "#plt.scatter(x,y, marker='o', color='red', s=100, label='Data Points')  # Change marker, color, and size)\n",
        "plt.xlabel('X-axis')\n",
        "plt.ylabel('Y-axis')\n",
        "plt.title('Scatter Plot')\n",
        "plt.grid(True)  # Add a grid (optional)\n",
        "\n",
        "# Set x-axis and y-axis limits (xlim and ylim)\n",
        "plt.xlim(0, 6)  # Set x-axis limits from 0 to 6\n",
        "plt.ylim(5, 20)  # Set y-axis limits from 5 to 20\n",
        "\n",
        "# Show the plot\n",
        "plt.show()\n"
      ],
      "metadata": {
        "id": "uQk6j5MDZ4uX"
      },
      "execution_count": null,
      "outputs": []
    },
    {
      "cell_type": "markdown",
      "source": [
        "### [6] Bar plot: category data로 많이 이용"
      ],
      "metadata": {
        "id": "mY0Hakd0aTR6"
      }
    },
    {
      "cell_type": "code",
      "source": [
        "import matplotlib.pyplot as plt\n",
        "\n",
        "# Example data\n",
        "categories = ['Category A', 'Category B', 'Category C', 'Category D']\n",
        "values = [10, 15, 8, 12]\n",
        "\n",
        "# Create a bar plot\n",
        "plt.bar(categories, values)\n",
        "plt.xlabel('Categories')\n",
        "plt.ylabel('Values')\n",
        "plt.title('Bar Plot')\n",
        "#plt.grid(axis='x')  # Add a horizontal grid (axis = 'y) or 'both')\n",
        "\n",
        "# Show the plot\n",
        "plt.show()\n"
      ],
      "metadata": {
        "id": "g2BzoOBUauPu"
      },
      "execution_count": null,
      "outputs": []
    },
    {
      "cell_type": "markdown",
      "source": [
        "### [7] Pie chart"
      ],
      "metadata": {
        "id": "v3qEgw3RbSPv"
      }
    },
    {
      "cell_type": "code",
      "source": [
        "import matplotlib.pyplot as plt\n",
        "\n",
        "# Example data\n",
        "labels = ['Category A', 'Category B', 'Category C', 'Category D']\n",
        "sizes = [30, 20, 15, 35]\n",
        "colors = ['blue', 'green', 'red', 'orange']\n",
        "explode = (0.1, 0, 0, 0)  # Explode the first slice (Category A)\n",
        "#explode = (0, 0.1, 0, 0)  # Explode the second slice (Category B)\n",
        "\n",
        "# Create a pie chart\n",
        "plt.pie(sizes, explode=explode, labels=labels, colors=colors, autopct='%1.1f%%', shadow=True, startangle=140)\n",
        "plt.axis('equal')  # Equal aspect ratio ensures that pie is drawn as a circle.\n",
        "plt.title('Pie Chart')\n",
        "\n",
        "# Show the plot\n",
        "plt.show()\n"
      ],
      "metadata": {
        "id": "p2mjitwjbVjh"
      },
      "execution_count": null,
      "outputs": []
    },
    {
      "cell_type": "markdown",
      "source": [
        "### [8] Line graph"
      ],
      "metadata": {
        "id": "EdsoT2AzcCJe"
      }
    },
    {
      "cell_type": "code",
      "source": [
        "import matplotlib.pyplot as plt\n",
        "\n",
        "# Example data\n",
        "x = [1, 2, 3, 4, 5]\n",
        "y = [10, 12, 8, 15, 9]\n",
        "\n",
        "# Create a line graph\n",
        "plt.plot(x, y, marker='o', linestyle='-', color='blue', label='Line Plot')  # Customize markers, linestyle, and color\n",
        "plt.xlabel('X-axis')\n",
        "plt.ylabel('Y-axis')\n",
        "plt.title('Line Graph')\n",
        "plt.grid(True)  # Add a grid (optional)\n",
        "\n",
        "# Show the plot\n",
        "plt.legend()  # Display the legend (optional)\n",
        "plt.show()\n",
        "\n"
      ],
      "metadata": {
        "id": "5o7hDnCTcErZ"
      },
      "execution_count": null,
      "outputs": []
    },
    {
      "cell_type": "markdown",
      "source": [
        "### [9] Radar chart"
      ],
      "metadata": {
        "id": "qB3lwX2fcQu2"
      }
    },
    {
      "cell_type": "code",
      "source": [
        "import numpy as np\n",
        "import matplotlib.pyplot as plt\n",
        "\n",
        "# Example data for different categories\n",
        "categories = ['Category A', 'Category B', 'Category C', 'Category D', 'Category E']\n",
        "\n",
        "# Data values for a single data point (e.g., an individual or group)\n",
        "data_values = [4, 3, 5, 2, 4]\n",
        "\n",
        "# Number of categories\n",
        "num_categories = len(categories)\n",
        "\n",
        "# Calculate the angle for each category\n",
        "angles = np.linspace(0, 2 * np.pi, num_categories, endpoint=False).tolist()\n",
        "angles += angles[:1]  # Close the circle\n",
        "\n",
        "# Create a radar chart\n",
        "plt.figure(figsize=(6, 6))\n",
        "ax = plt.subplot(111, polar=True)  # Specify polar projection\n",
        "\n",
        "# Repeat the first data point to create a closed loop\n",
        "data_values += data_values[:1]\n",
        "\n",
        "# Plot the data\n",
        "ax.fill(angles, data_values, 'b', alpha=0.1)  # Fill the area under the curve\n",
        "ax.set_thetagrids(np.degrees(angles[:-1]), labels=categories)  # Set category labels\n",
        "\n",
        "# Add a title\n",
        "plt.title('Radar Chart')\n",
        "\n",
        "# Show the plot\n",
        "plt.show()\n"
      ],
      "metadata": {
        "id": "ojWA7mB7cP8G"
      },
      "execution_count": null,
      "outputs": []
    },
    {
      "cell_type": "markdown",
      "source": [
        "### [10] Heatmap: using {seaborn}"
      ],
      "metadata": {
        "id": "3tb7jC9-cqZZ"
      }
    },
    {
      "cell_type": "code",
      "source": [
        "import pandas as pd\n",
        "import seaborn as sns\n",
        "import matplotlib.pyplot as plt\n",
        "\n",
        "# Imaginary data for word frequency in books\n",
        "data = pd.DataFrame({\n",
        "    'Book 1': [10, 20, 30, 40, 50],\n",
        "    'Book 2': [15, 25, 35, 45, 55],\n",
        "    'Book 3': [5, 10, 15, 20, 25],\n",
        "    'Book 4': [25, 15, 30, 10, 5],\n",
        "    'Book 5': [30, 40, 20, 10, 15]\n",
        "})\n",
        "\n",
        "# Create a heatmap using seaborn\n",
        "plt.figure(figsize=(10, 6))  # Set the figure size\n",
        "sns.heatmap(data, annot=True, fmt='d', cmap='coolwarm', cbar=True)\n",
        "\n",
        "# Customize labels and title\n",
        "plt.xlabel('Books')\n",
        "plt.ylabel('Word Frequency')\n",
        "plt.title('Word Frequency in Books')\n",
        "\n",
        "# Show the heatmap\n",
        "plt.show()\n"
      ],
      "metadata": {
        "id": "yIPFO4b9cqvx"
      },
      "execution_count": null,
      "outputs": []
    },
    {
      "cell_type": "markdown",
      "source": [
        "### [11] Pareto plot 누적빈도 그래프"
      ],
      "metadata": {
        "id": "YNKr0siwfa4w"
      }
    },
    {
      "cell_type": "code",
      "source": [
        "import pandas as pd\n",
        "import matplotlib.pyplot as plt\n",
        "\n",
        "# Example data\n",
        "data = {\n",
        "    'Category': ['Category A', 'Category B', 'Category C', 'Category D', 'Category E'],\n",
        "    'Count': [40, 30, 20, 10, 5]\n",
        "}\n",
        "\n",
        "# Create a DataFrame\n",
        "df = pd.DataFrame(data)\n",
        "\n",
        "# Sort the DataFrame by 'Count' in ascending order\n",
        "df = df.sort_values(by='Count', ascending=True)\n",
        "\n",
        "# Calculate cumulative percentage\n",
        "df['Cumulative Percentage'] = (df['Count'].cumsum() / df['Count'].sum()) * 100\n",
        "\n",
        "# Specify bar colors\n",
        "bar_colors = ['blue', 'green', 'red', 'purple', 'orange']\n",
        "\n",
        "# Create a Pareto plot\n",
        "plt.figure(figsize=(10, 6))\n",
        "ax = plt.subplot()\n",
        "\n",
        "# Bar plot for 'Count' with custom colors\n",
        "ax.bar(df['Category'], df['Count'], color=bar_colors, alpha=0.7, label='Count')\n",
        "\n",
        "# Line plot for 'Cumulative Percentage'\n",
        "ax.plot(df['Category'], df['Cumulative Percentage'], color='gray', marker='o', label='Cumulative Percentage')\n",
        "\n",
        "# Customize labels and title\n",
        "plt.xlabel('Categories')\n",
        "plt.ylabel('Count / Cumulative Percentage')\n",
        "plt.title('Pareto Plot (Ascending Order)')\n",
        "plt.xticks(rotation=45)  # Rotate x-axis labels for better readability\n",
        "\n",
        "# Show the Pareto plot with legend\n",
        "plt.legend()\n",
        "plt.show()\n"
      ],
      "metadata": {
        "id": "4xbw5A3GfamS"
      },
      "execution_count": null,
      "outputs": []
    },
    {
      "cell_type": "markdown",
      "source": [
        "### [12] Stem-and-leaf plot"
      ],
      "metadata": {
        "id": "urjtEhDigIQ9"
      }
    },
    {
      "cell_type": "code",
      "source": [
        "import numpy as np\n",
        "import matplotlib.pyplot as plt\n",
        "\n",
        "# Example data (a list of numerical values)\n",
        "data = [12, 27, 35, 46, 53, 67, 71, 83, 94]\n",
        "\n",
        "# Extract the leading digits (stems) and trailing digits (leaves)\n",
        "stems = [int(str(x)[:-1]) for x in data]\n",
        "leaves = [int(str(x)[-1]) for x in data]\n",
        "\n",
        "# Create a stem-and-leaf plot with orange color\n",
        "plt.figure(figsize=(8, 6))  # Set the figure size\n",
        "plt.stem(stems, leaves, markerfmt=\"o\", basefmt=\" \", use_line_collection=True, linefmt=\"orange\", bottom=-1, label='Data')\n",
        "\n",
        "# Customize labels and title\n",
        "plt.xlabel('Stems')\n",
        "plt.ylabel('Leaves')\n",
        "plt.title('Stem-and-Leaf Plot')\n",
        "\n",
        "# Show the plot\n",
        "plt.legend()\n",
        "plt.show()\n"
      ],
      "metadata": {
        "id": "IZrsVfvQgOsR"
      },
      "execution_count": null,
      "outputs": []
    },
    {
      "cell_type": "markdown",
      "source": [
        "### [13] Time series plot"
      ],
      "metadata": {
        "id": "JcQPkxM_hiX9"
      }
    },
    {
      "cell_type": "code",
      "source": [
        "import pandas as pd\n",
        "import numpy as np\n",
        "import matplotlib.pyplot as plt\n",
        "\n",
        "# Step 1: Create a date range\n",
        "dates = pd.date_range(start='2023-01-01', periods=50, freq='D')\n",
        "\n",
        "# Step 2: Generate random data to simulate time series data\n",
        "data = np.random.randn(50).cumsum()\n",
        "\n",
        "# Step 3: Create a DataFrame\n",
        "df = pd.DataFrame(data, index=dates, columns=['Value'])\n",
        "\n",
        "# Step 4: Plot the time series data\n",
        "plt.figure(figsize=(10, 6))\n",
        "plt.plot(df.index, df['Value'], marker='o', color='blue')\n",
        "plt.title('Time Series Plot')\n",
        "plt.xlabel('Date')\n",
        "plt.ylabel('Value')\n",
        "plt.grid(True)\n",
        "plt.show()\n"
      ],
      "metadata": {
        "id": "ncEGu3Y0hp6T"
      },
      "execution_count": null,
      "outputs": []
    },
    {
      "cell_type": "markdown",
      "source": [
        "### [14] Frequency polygon: a graphical representation used to visualize the distribution of a dataset.\n",
        "\n",
        "**Interpretation:**\n",
        "\n",
        "+ Peaks: Peaks in a frequency polygon represent the most frequent data points (the mode). A distribution can have one peak (unimodal), two peaks (bimodal), or multiple peaks.\n",
        "\n",
        "+ Spread: The width of the polygon indicates the spread or variance of the data. A wider polygon means a greater spread.\n",
        "\n",
        "+ Skewness: The asymmetry of the polygon indicates skewness. If it leans to the left or right, it suggests skewness in data.\n",
        "\n",
        "**Uses**\n",
        "+ Comparing Distributions: Frequency polygons are particularly useful when comparing multiple distributions. Different polygons can be plotted on the same axes for comparison.\n",
        "\n",
        "+ Identifying Trends: They are helpful in identifying trends and patterns that might not be obvious in tabulated data.\n",
        "\n"
      ],
      "metadata": {
        "id": "biLD71pSiAbY"
      }
    },
    {
      "cell_type": "code",
      "source": [
        "import numpy as np\n",
        "import matplotlib.pyplot as plt\n",
        "\n",
        "# Step 1: Generate a dataset (you can replace this with your own dataset)\n",
        "data = np.random.normal(loc=0, scale=1, size=1000)\n",
        "\n",
        "# Step 2: Compute the histogram (frequency distribution) of the data\n",
        "counts, bin_edges = np.histogram(data, bins=10, density=True)\n",
        "\n",
        "# Step 3: Compute the bin centers (instead of edges)\n",
        "bin_centers = 0.5 * (bin_edges[:-1] + bin_edges[1:])\n",
        "\n",
        "# Step 4: Plot the frequency polygon\n",
        "plt.figure(figsize=(8, 6))\n",
        "plt.plot(bin_centers, counts, marker='o', linestyle='-')\n",
        "plt.title('Frequency Polygon')\n",
        "plt.xlabel('Value')\n",
        "plt.ylabel('Frequency')\n",
        "plt.grid(True)\n",
        "plt.show()\n"
      ],
      "metadata": {
        "id": "VoctAFLqiDkW"
      },
      "execution_count": null,
      "outputs": []
    },
    {
      "cell_type": "markdown",
      "source": [
        "### [15] Dot plot"
      ],
      "metadata": {
        "id": "7N0ki8WBj5d0"
      }
    },
    {
      "cell_type": "code",
      "source": [
        "import matplotlib.pyplot as plt\n",
        "import numpy as np\n",
        "\n",
        "# Example dataset\n",
        "data = [1, 2, 2, 3, 3, 3, 4, 4, 4, 4, 5, 5, 5, 5, 5]\n",
        "\n",
        "# Create a figure and a set of subplots\n",
        "fig, ax = plt.subplots()\n",
        "\n",
        "# Count the occurrence of each item in the dataset\n",
        "values, counts = np.unique(data, return_counts=True)\n",
        "\n",
        "# Plot each data point\n",
        "for value, count in zip(values, counts):\n",
        "    ax.plot([value] * count, range(count), 'o', color='blue')\n",
        "\n",
        "# Set labels and title\n",
        "ax.set_xlabel('Value')\n",
        "ax.set_ylabel('Frequency')\n",
        "ax.set_title('Dot Plot')\n",
        "\n",
        "# Show the plot\n",
        "plt.show()\n"
      ],
      "metadata": {
        "id": "cojbntf1kUo2"
      },
      "execution_count": null,
      "outputs": []
    },
    {
      "cell_type": "code",
      "source": [
        "import matplotlib.pyplot as plt\n",
        "import numpy as np\n",
        "\n",
        "# Step 1: Generate a random dataset of English grades for 30 students\n",
        "np.random.seed(0)  # For reproducibility\n",
        "grades = np.random.randint(56, 99, size=30)  # Grades between 56 and 98\n",
        "\n",
        "# Step 2: Sort the grades in decreasing order\n",
        "sorted_indices = np.argsort(-grades)  # Indices of students after sorting grades in decreasing order\n",
        "\n",
        "# Step 3: Create a dot plot\n",
        "fig, ax = plt.subplots()\n",
        "# Plotting students' numbers on the x-axis against their sorted grades\n",
        "ax.plot(range(1, len(sorted_indices) + 1), grades[sorted_indices], 'o', color='blue')\n",
        "\n",
        "# Set the labels and title\n",
        "ax.set_xlabel('Students (sorted by grade)')\n",
        "ax.set_ylabel('Grades')\n",
        "ax.set_title('Dot Plot of Students\\' English Grades')\n",
        "\n",
        "# Set x-axis ticks\n",
        "x_ticks = list(range(1, len(sorted_indices) + 1, 5))\n",
        "if len(sorted_indices) not in x_ticks:  # Ensure the last number is included\n",
        "    x_ticks.append(len(sorted_indices))\n",
        "ax.set_xticks(x_ticks)\n",
        "\n",
        "# Set y-axis limits\n",
        "ax.set_ylim(0, 100)\n",
        "\n",
        "# Show the plot\n",
        "plt.show()\n"
      ],
      "metadata": {
        "id": "gu7qIqerkmEC"
      },
      "execution_count": null,
      "outputs": []
    },
    {
      "cell_type": "markdown",
      "source": [
        "##😘 **2.3 Real data for practice**\n",
        "\n",
        "Goto [practice](https://github.com/MK316/Spring2024/blob/main/Seminar/Seminar01C.ipynb)"
      ],
      "metadata": {
        "id": "9YO-WyLwDe0G"
      }
    },
    {
      "cell_type": "markdown",
      "source": [
        "#The END"
      ],
      "metadata": {
        "id": "woHB9-3uo3lD"
      }
    }
  ]
}