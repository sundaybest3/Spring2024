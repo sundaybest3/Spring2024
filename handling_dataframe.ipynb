{
  "nbformat": 4,
  "nbformat_minor": 0,
  "metadata": {
    "colab": {
      "provenance": [],
      "authorship_tag": "ABX9TyOG7P13H2fzBsaQXE2xnh1S",
      "include_colab_link": true
    },
    "kernelspec": {
      "name": "python3",
      "display_name": "Python 3"
    },
    "language_info": {
      "name": "python"
    }
  },
  "cells": [
    {
      "cell_type": "markdown",
      "metadata": {
        "id": "view-in-github",
        "colab_type": "text"
      },
      "source": [
        "<a href=\"https://colab.research.google.com/github/sundaybest3/Spring2024/blob/main/handling_dataframe.ipynb\" target=\"_parent\"><img src=\"https://colab.research.google.com/assets/colab-badge.svg\" alt=\"Open In Colab\"/></a>"
      ]
    },
    {
      "cell_type": "code",
      "execution_count": 1,
      "metadata": {
        "id": "GwIGW18_lsB7"
      },
      "outputs": [],
      "source": [
        "import pandas as pd"
      ]
    },
    {
      "cell_type": "code",
      "source": [
        "#to read a csv file into a dataframe in Colab\n",
        "df=pd.read_csv('path/to/your/csvfile.csv')"
      ],
      "metadata": {
        "id": "F67zvu5Eynir"
      },
      "execution_count": null,
      "outputs": []
    },
    {
      "cell_type": "code",
      "source": [
        "#if csv file is stored in Google Drive\n",
        "from google.colab import drive\n",
        "drive.mount('/content/drive')"
      ],
      "metadata": {
        "id": "t0PcNPkBy1fa"
      },
      "execution_count": null,
      "outputs": []
    },
    {
      "cell_type": "code",
      "source": [
        "#to take a look at the first few rows of DataFrame\n",
        "df.head()\n",
        "df.tail()"
      ],
      "metadata": {
        "id": "EoYLskMAzX_U"
      },
      "execution_count": null,
      "outputs": []
    },
    {
      "cell_type": "code",
      "source": [
        "#to save a dataframe to a csv file\n",
        "df.to_csv('path/to/your/new_csvfile.csv', index=False)\n",
        "#example: df.to_csv('/content/drive/My Drive/path/to/updated_vocabulary_list.csv', index=False)"
      ],
      "metadata": {
        "id": "mTNqa6QNzjYp"
      },
      "execution_count": null,
      "outputs": []
    }
  ]
}